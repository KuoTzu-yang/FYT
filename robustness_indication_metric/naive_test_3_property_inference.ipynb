{
 "cells": [
  {
   "cell_type": "code",
   "execution_count": 1,
   "metadata": {},
   "outputs": [
    {
     "name": "stderr",
     "output_type": "stream",
     "text": [
      "Using TensorFlow backend.\n"
     ]
    },
    {
     "name": "stdout",
     "output_type": "stream",
     "text": [
      "first_class          : 5\n",
      "second_class         : 7\n",
      "size_of_train_set    : 3000\n",
      "size_of_test_set     : 100\n",
      "is_ran_per_included  : True\n",
      "ran_dist             : normal\n",
      "uni_range            : 0.2\n",
      "normal_std           : 0.1\n",
      "model_type           : naive\n"
     ]
    }
   ],
   "source": [
    "import property_inference_interface\n",
    "interface = property_inference_interface.PropertyInferenceInterface()\n",
    "\n",
    "meta_params = {\n",
    "    'first_class': 5, \n",
    "    'second_class': 7, \n",
    "    'size_of_train_set': 3000, \n",
    "    'size_of_test_set': 100, \n",
    "    'is_ran_per_included': True, \n",
    "    'ran_dist': 'normal', \n",
    "    'uni_range': 0.2, \n",
    "    'normal_std': 0.1,\n",
    "    'model_type': 'naive'\n",
    "}\n",
    "\n",
    "interface.set_meta_params(meta_params)\n",
    "interface.print_meta_params()"
   ]
  },
  {
   "cell_type": "code",
   "execution_count": 2,
   "metadata": {},
   "outputs": [
    {
     "name": "stdout",
     "output_type": "stream",
     "text": [
      "Train dataset\n",
      "(3000, 784) (3000,)\n",
      "Test dataset\n",
      "(100, 784) (100,)\n"
     ]
    }
   ],
   "source": [
    "interface.prepare_dataset()\n",
    "interface.print_dataset_shape()"
   ]
  },
  {
   "cell_type": "code",
   "execution_count": 3,
   "metadata": {},
   "outputs": [
    {
     "data": {
      "image/png": "[encoded data removed]",
      "text/plain": [
       "<Figure size 432x288 with 32 Axes>"
      ]
     },
     "metadata": {
      "needs_background": "light"
     },
     "output_type": "display_data"
    }
   ],
   "source": [
    "# Visualize the dataset\n",
    "%matplotlib inline\n",
    "interface.print_some_samples()"
   ]
  },
  {
   "cell_type": "code",
   "execution_count": 4,
   "metadata": {},
   "outputs": [
    {
     "name": "stdout",
     "output_type": "stream",
     "text": [
      "Model (train) accurancy: 1.0\n"
     ]
    }
   ],
   "source": [
    "interface.generate_model()\n",
    "interface.eval_model()"
   ]
  },
  {
   "cell_type": "code",
   "execution_count": 5,
   "metadata": {},
   "outputs": [
    {
     "name": "stdout",
     "output_type": "stream",
     "text": [
      "Total Input Properties extracted for the first class: 8201\n",
      "Total Input Properties extracted for the second class: 9799\n",
      "Total Input Properties extracted for the first class (unique): 709\n",
      "Total Input Properties extracted for the second class (unique): 3932\n"
     ]
    }
   ],
   "source": [
    "interface.generate_set_of_preconditions()\n",
    "interface.print_set_of_preconditions()\n",
    "num_first_F, num_second_F, num_unqi_fist_F, num_unqi_secon_F = interface.info_about_set_of_preconditions()"
   ]
  },
  {
   "cell_type": "code",
   "execution_count": 6,
   "metadata": {},
   "outputs": [
    {
     "name": "stdout",
     "output_type": "stream",
     "text": [
      "Evaluate on benign samples with test set\n",
      "82 100 0.82\n",
      "Evaluate on adversarial samples with test set\n",
      "94 100 0.94\n"
     ]
    }
   ],
   "source": [
    "benign_detect_ratio, adversarial_detect_ratio = interface.evaluate_algorithm_on_test_set()"
   ]
  },
  {
   "cell_type": "code",
   "execution_count": 7,
   "metadata": {},
   "outputs": [
    {
     "name": "stdout",
     "output_type": "stream",
     "text": [
      "[8201, 9799, 709, 3932, 0.82, 0.94]\n"
     ]
    }
   ],
   "source": [
    "exp_info = [num_first_F, num_second_F, num_unqi_fist_F, num_unqi_secon_F, benign_detect_ratio, adversarial_detect_ratio]\n",
    "print(exp_info)"
   ]
  },
  {
   "cell_type": "code",
   "execution_count": 8,
   "metadata": {},
   "outputs": [
    {
     "name": "stdout",
     "output_type": "stream",
     "text": [
      "trail 1\n",
      "trail 2\n",
      "trail 3\n",
      "trail 4\n",
      "trail 5\n",
      "trail 6\n",
      "trail 7\n",
      "trail 8\n",
      "trail 9\n",
      "trail 10\n",
      "trail 11\n",
      "trail 12\n",
      "trail 13\n",
      "trail 14\n",
      "trail 15\n",
      "trail 16\n",
      "trail 17\n",
      "trail 18\n",
      "trail 19\n",
      "trail 20\n",
      "trail 21\n",
      "trail 22\n",
      "trail 23\n",
      "trail 24\n",
      "trail 25\n",
      "trail 26\n",
      "trail 27\n",
      "trail 28\n",
      "trail 29\n",
      "trail 30\n",
      "trail 31\n",
      "trail 32\n",
      "trail 33\n",
      "trail 34\n",
      "trail 35\n",
      "trail 36\n",
      "trail 37\n",
      "trail 38\n",
      "trail 39\n",
      "trail 40\n",
      "trail 41\n",
      "trail 42\n",
      "trail 43\n",
      "trail 44\n",
      "trail 45\n",
      "trail 46\n",
      "trail 47\n",
      "trail 48\n",
      "trail 49\n",
      "trail 50\n",
      "trail 51\n",
      "trail 52\n",
      "trail 53\n",
      "trail 54\n",
      "trail 55\n",
      "trail 56\n",
      "trail 57\n",
      "trail 58\n",
      "trail 59\n",
      "trail 60\n",
      "trail 61\n",
      "trail 62\n",
      "trail 63\n",
      "trail 64\n",
      "trail 65\n",
      "trail 66\n",
      "trail 67\n",
      "trail 68\n",
      "trail 69\n",
      "trail 70\n",
      "trail 71\n",
      "trail 72\n",
      "trail 73\n",
      "trail 74\n",
      "trail 75\n",
      "trail 76\n",
      "trail 77\n",
      "trail 78\n",
      "trail 79\n",
      "trail 80\n",
      "trail 81\n",
      "trail 82\n",
      "trail 83\n",
      "trail 84\n",
      "trail 85\n",
      "trail 86\n",
      "trail 87\n",
      "trail 88\n",
      "trail 89\n",
      "trail 90\n",
      "trail 91\n",
      "trail 92\n",
      "trail 93\n",
      "trail 94\n",
      "trail 95\n",
      "trail 96\n",
      "trail 97\n",
      "trail 98\n",
      "trail 99\n",
      "trail 100\n"
     ]
    }
   ],
   "source": [
    "def single_exp():\n",
    "    interface.generate_model()\n",
    "    interface.generate_set_of_preconditions()\n",
    "    num_first_F, num_second_F, num_unqi_fist_F, num_unqi_secon_F = interface.info_about_set_of_preconditions()\n",
    "    benign_detect_ratio, adversarial_detect_ratio = interface.evaluate_algorithm_on_test_set(verbose=False)\n",
    "    exp_info = [num_first_F, num_second_F, num_unqi_fist_F, num_unqi_secon_F, benign_detect_ratio, adversarial_detect_ratio]\n",
    "    return exp_info    \n",
    "\n",
    "def exp(num_of_trails):\n",
    "    cumulative_exp_info = []\n",
    "    for i in range(num_of_trails):\n",
    "        print('trail', (i+1))\n",
    "        single_exp_info = single_exp()\n",
    "        cumulative_exp_info.append(single_exp_info)\n",
    "        \n",
    "    return cumulative_exp_info\n",
    "\n",
    "cumulative_exp_info = exp(100)\n"
   ]
  },
  {
   "cell_type": "code",
   "execution_count": 9,
   "metadata": {},
   "outputs": [
    {
     "name": "stdout",
     "output_type": "stream",
     "text": [
      "(100, 6)\n",
      "8185.28 3.0\n",
      "9814.72 3.0\n",
      "1548.33 359.29\n",
      "3975.6 833.274\n",
      "0.747 0.055\n",
      "0.892 0.083\n"
     ]
    }
   ],
   "source": [
    "# for i in range(len(cumulative_exp_info)):\n",
    "#     print(cumulative_exp_info[i])\n",
    "import numpy as np\n",
    "info = np.array(cumulative_exp_info)\n",
    "print(info.shape)\n",
    "mean = np.mean(info, axis=0)\n",
    "std = np.std(info, axis=0)\n",
    "mean = np.array([round(x, 3) for x in mean])\n",
    "std = np.array([round(x, 3) for x in std])\n",
    "\n",
    "for i in range(6):\n",
    "    print(mean[i], std[i])"
   ]
  },
  {
   "cell_type": "code",
   "execution_count": null,
   "metadata": {},
   "outputs": [],
   "source": []
  }
 ],
 "metadata": {
  "kernelspec": {
   "display_name": "Python 3",
   "language": "python",
   "name": "python3"
  },
  "language_info": {
   "codemirror_mode": {
    "name": "ipython",
    "version": 3
   },
   "file_extension": ".py",
   "mimetype": "text/x-python",
   "name": "python",
   "nbconvert_exporter": "python",
   "pygments_lexer": "ipython3",
   "version": "3.7.3"
  }
 },
 "nbformat": 4,
 "nbformat_minor": 2
}
