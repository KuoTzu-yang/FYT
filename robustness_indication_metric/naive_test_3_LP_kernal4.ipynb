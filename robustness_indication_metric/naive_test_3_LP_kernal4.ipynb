{
 "cells": [
  {
   "cell_type": "code",
   "execution_count": 1,
   "metadata": {},
   "outputs": [
    {
     "name": "stderr",
     "output_type": "stream",
     "text": [
      "Using TensorFlow backend.\n"
     ]
    },
    {
     "name": "stdout",
     "output_type": "stream",
     "text": [
      "first_class          : 5\n",
      "second_class         : 7\n",
      "size_of_train_set    : 3000\n",
      "size_of_test_set     : 100\n",
      "subsample_ratio      : 1\n",
      "flatten              : True\n",
      "is_ran_per_included  : False\n",
      "ran_dist             : uniform\n",
      "uni_range            : 0.2\n",
      "normal_std           : 0.1\n",
      "model_type           : normal\n",
      "adv_attack           : i_FGSM\n"
     ]
    }
   ],
   "source": [
    "import property_inference_interface\n",
    "interface = property_inference_interface.PropertyInferenceInterface()\n",
    "\n",
    "meta_params = {\n",
    "    'first_class': 5, \n",
    "    'second_class': 7, \n",
    "    'size_of_train_set': 3000, \n",
    "    'size_of_test_set': 100,\n",
    "    'subsample_ratio': 1, \n",
    "    'flatten': True, \n",
    "    \n",
    "    'is_ran_per_included': False, \n",
    "    'ran_dist': 'uniform', \n",
    "    'uni_range': 0.2, \n",
    "    'normal_std': 0.1,\n",
    "    \n",
    "    'model_type': 'normal',\n",
    "    'adv_attack': 'i_FGSM'\n",
    "}\n",
    "\n",
    "interface.set_meta_params(meta_params)\n",
    "interface.print_meta_params()"
   ]
  },
  {
   "cell_type": "code",
   "execution_count": 2,
   "metadata": {},
   "outputs": [
    {
     "name": "stdout",
     "output_type": "stream",
     "text": [
      "Train dataset\n",
      "(3000, 784) (3000,)\n",
      "Test dataset\n",
      "(100, 784) (100,)\n"
     ]
    }
   ],
   "source": [
    "interface.prepare_dataset()\n",
    "interface.print_dataset_shape()"
   ]
  },
  {
   "cell_type": "code",
   "execution_count": 3,
   "metadata": {},
   "outputs": [
    {
     "data": {
      "image/png": "[encoded data removed]",
      "text/plain": [
       "<Figure size 432x288 with 32 Axes>"
      ]
     },
     "metadata": {
      "needs_background": "light"
     },
     "output_type": "display_data"
    }
   ],
   "source": [
    "# Visualize the dataset\n",
    "%matplotlib inline\n",
    "interface.print_some_samples()"
   ]
  },
  {
   "cell_type": "code",
   "execution_count": 4,
   "metadata": {},
   "outputs": [
    {
     "name": "stdout",
     "output_type": "stream",
     "text": [
      "Model (train) accurancy: 1.0\n"
     ]
    },
    {
     "data": {
      "text/plain": [
       "1.0"
      ]
     },
     "execution_count": 4,
     "metadata": {},
     "output_type": "execute_result"
    }
   ],
   "source": [
    "interface.generate_model()\n",
    "interface.eval_model()"
   ]
  },
  {
   "cell_type": "code",
   "execution_count": 5,
   "metadata": {},
   "outputs": [
    {
     "name": "stdout",
     "output_type": "stream",
     "text": [
      "Display the architectur\n"
     ]
    },
    {
     "data": {
      "text/plain": [
       "NormalC(\n",
       "  (layer1): Linear(in_features=784, out_features=64, bias=True)\n",
       "  (layer2): Linear(in_features=64, out_features=32, bias=True)\n",
       "  (layer3): Linear(in_features=32, out_features=20, bias=True)\n",
       "  (layer4): Linear(in_features=20, out_features=10, bias=True)\n",
       "  (layer5): Linear(in_features=10, out_features=2, bias=True)\n",
       "  (relu): ReLU()\n",
       ")"
      ]
     },
     "execution_count": 5,
     "metadata": {},
     "output_type": "execute_result"
    }
   ],
   "source": [
    "print('Display the architectur')\n",
    "interface.model"
   ]
  },
  {
   "cell_type": "code",
   "execution_count": 6,
   "metadata": {},
   "outputs": [
    {
     "name": "stdout",
     "output_type": "stream",
     "text": [
      "Length of each precondition (provenance): 64\n",
      "Total Input Properties extracted for the first class: 1364\n",
      "Total Input Properties extracted for the second class: 1636\n",
      "Total Input Properties extracted for the first class (unique): 763\n",
      "Total Input Properties extracted for the second class (unique): 638\n"
     ]
    }
   ],
   "source": [
    "interface.generate_set_of_preconditions()\n",
    "interface.print_set_of_preconditions()\n",
    "num_first_F, num_second_F, num_unqi_fist_F, num_unqi_secon_F = interface.info_about_set_of_preconditions()"
   ]
  },
  {
   "cell_type": "code",
   "execution_count": 7,
   "metadata": {},
   "outputs": [
    {
     "name": "stdout",
     "output_type": "stream",
     "text": [
      "0.01 [1364, 1636, 763, 638, 0.37, 1.0]\n",
      "0.001 [1364, 1636, 763, 638, 0.79, 1.0]\n",
      "0.0001 [1364, 1636, 763, 638, 0.91, 1.0]\n",
      "1e-05 [1364, 1636, 763, 638, 0.93, 1.0]\n",
      "5e-06 [1364, 1636, 763, 638, 0.93, 1.0]\n",
      "1e-06 [1364, 1636, 763, 638, 0.95, 0.99]\n",
      "5e-07 [1364, 1636, 763, 638, 0.95, 0.98]\n",
      "1e-07 [1364, 1636, 763, 638, 0.96, 0.94]\n",
      "7e-08 [1364, 1636, 763, 638, 0.96, 0.92]\n",
      "5e-08 [1364, 1636, 763, 638, 0.96, 0.9]\n",
      "2e-08 [1364, 1636, 763, 638, 0.97, 0.88]\n",
      "1e-08 [1364, 1636, 763, 638, 0.97, 0.88]\n",
      "5e-09 [1364, 1636, 763, 638, 0.98, 0.85]\n",
      "1e-09 [1364, 1636, 763, 638, 0.99, 0.73]\n",
      "1e-10 [1364, 1636, 763, 638, 1.0, 0.57]\n",
      "1e-11 [1364, 1636, 763, 638, 1.0, 0.41]\n",
      "1e-12 [1364, 1636, 763, 638, 1.0, 0.3]\n",
      "1e-13 [1364, 1636, 763, 638, 1.0, 0.25]\n",
      "1e-14 [1364, 1636, 763, 638, 1.0, 0.2]\n",
      "1e-15 [1364, 1636, 763, 638, 1.0, 0.14]\n",
      "1e-16 [1364, 1636, 763, 638, 1.0, 0.09]\n"
     ]
    }
   ],
   "source": [
    "alphas = [1e-2, 1e-3, 1e-4, 1e-5, 5e-6, 1e-6, 5e-7, 1e-7, 7e-8, 5e-8, 2e-8, 1e-8, 5e-9, 1e-9, 1e-10, 1e-11, 1e-12, 1e-13, 1e-14, 1e-15, 1e-16]\n",
    "for alpha in alphas:\n",
    "    benign_detect_ratio, adversarial_detect_ratio = interface.evaluate_algorithm_on_test_set(alpha, verbose=False)\n",
    "    exp_info = [num_first_F, num_second_F, num_unqi_fist_F, num_unqi_secon_F, benign_detect_ratio, adversarial_detect_ratio]\n",
    "    print(alpha, exp_info)"
   ]
  },
  {
   "cell_type": "code",
   "execution_count": 8,
   "metadata": {},
   "outputs": [
    {
     "name": "stdout",
     "output_type": "stream",
     "text": [
      "[1364, 1636, 763, 638, 1.0, 0.09]\n"
     ]
    }
   ],
   "source": [
    "exp_info = [num_first_F, num_second_F, num_unqi_fist_F, num_unqi_secon_F, benign_detect_ratio, adversarial_detect_ratio]\n",
    "print(exp_info)"
   ]
  },
  {
   "cell_type": "code",
   "execution_count": 9,
   "metadata": {},
   "outputs": [
    {
     "data": {
      "image/png": "[encoded data removed]",
      "text/plain": [
       "<Figure size 432x288 with 1 Axes>"
      ]
     },
     "metadata": {
      "needs_background": "light"
     },
     "output_type": "display_data"
    },
    {
     "data": {
      "image/png": "[encoded data removed]",
      "text/plain": [
       "<Figure size 432x288 with 1 Axes>"
      ]
     },
     "metadata": {
      "needs_background": "light"
     },
     "output_type": "display_data"
    }
   ],
   "source": [
    "import numpy as np\n",
    "prob_LPs = interface.prob_property_set\n",
    "prob_LP1, prob_LP2 = prob_LPs[0], prob_LPs[1]\n",
    "\n",
    "''' Design 1\n",
    "risk_score = 0\n",
    "if idx, neuron_state in enumerate(provenance): \n",
    "    risk_score = |neuron_state - prob[idx]|\n",
    "'''\n",
    "\n",
    "''' Design 2\n",
    "risk_score = 0\n",
    "if idx, neuron_state in enumerate(provenance): \n",
    "    diff = |neuron_state - prob[idx]|\n",
    "    if diff > threshold:\n",
    "        risk_score = diff \n",
    "'''\n",
    "\n",
    "%matplotlib inline \n",
    "import matplotlib.pyplot as plt\n",
    "y = np.arange(64)\n",
    "plt.plot(prob_LP1, y, 'bo')\n",
    "plt.show()\n",
    "\n",
    "plt.plot(prob_LP2, y, 'ro')\n",
    "plt.show()"
   ]
  },
  {
   "cell_type": "code",
   "execution_count": 10,
   "metadata": {},
   "outputs": [],
   "source": [
    "def single_exp():\n",
    "    interface.generate_model()\n",
    "    acc = interface.eval_model()\n",
    "    if not (acc == 1.0):\n",
    "        interface.generate_model()\n",
    "        acc = interface.eval_model()\n",
    "        \n",
    "    interface.generate_set_of_preconditions()\n",
    "    num_first_F, num_second_F, num_unqi_fist_F, num_unqi_secon_F = interface.info_about_set_of_preconditions()\n",
    "    benign_detect_ratio, adversarial_detect_ratio = interface.evaluate_algorithm_on_test_set(verbose=True)\n",
    "    exp_info = [num_first_F, num_second_F, num_unqi_fist_F, num_unqi_secon_F, benign_detect_ratio, adversarial_detect_ratio]\n",
    "    return exp_info    \n",
    "\n",
    "def exp(num_of_trails, file_name):\n",
    "    cumulative_exp_info = []\n",
    "    \n",
    "    import csv \n",
    "\n",
    "    for i in range(num_of_trails):\n",
    "        print('trail', (i+1))\n",
    "        single_exp_info = single_exp()\n",
    "        cumulative_exp_info.append(single_exp_info)\n",
    "\n",
    "        with open(file_name, mode='a', newline='') as file:\n",
    "            writer = csv.writer(file, delimiter=',', quotechar='\"', quoting=csv.QUOTE_MINIMAL)\n",
    "            writer.writerow(single_exp_info)\n",
    "        file.close()\n",
    "\n",
    "        print(single_exp_info)\n",
    "        \n",
    "    return cumulative_exp_info\n",
    "\n",
    "file_name = 'test.csv'\n",
    "# cumulative_exp_info = exp(40, file_name)"
   ]
  },
  {
   "cell_type": "code",
   "execution_count": null,
   "metadata": {},
   "outputs": [],
   "source": []
  }
 ],
 "metadata": {
  "kernelspec": {
   "display_name": "Python 3",
   "language": "python",
   "name": "python3"
  },
  "language_info": {
   "codemirror_mode": {
    "name": "ipython",
    "version": 3
   },
   "file_extension": ".py",
   "mimetype": "text/x-python",
   "name": "python",
   "nbconvert_exporter": "python",
   "pygments_lexer": "ipython3",
   "version": "3.7.3"
  }
 },
 "nbformat": 4,
 "nbformat_minor": 2
}
