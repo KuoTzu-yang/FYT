{
 "cells": [
  {
   "cell_type": "code",
   "execution_count": 1,
   "metadata": {},
   "outputs": [],
   "source": [
    "def calculate_stats(file_name):\n",
    "    import numpy as np\n",
    "    import csv\n",
    "    \n",
    "    info = []\n",
    "    with open(file_name) as csv_file:\n",
    "        csv_reader = csv.reader(csv_file, delimiter=',')\n",
    "        for row in csv_reader:\n",
    "            row = [float(x) for x in row]\n",
    "            info.append(row)\n",
    "    csv_file.close()\n",
    "    \n",
    "    info = np.array(info)\n",
    "    shape = info.shape\n",
    "    (num_of_exp, _) = shape\n",
    "    \n",
    "    if num_of_exp > 100:\n",
    "        info = info[:100]\n",
    "        \n",
    "    mean = np.mean(info, axis=0)\n",
    "    std = np.std(info, axis=0)\n",
    "    mean = np.array([round(x, 4) for x in mean])\n",
    "    std = np.array([round(x, 3) for x in std])\n",
    "    \n",
    "    return (mean, std)"
   ]
  },
  {
   "cell_type": "code",
   "execution_count": 2,
   "metadata": {},
   "outputs": [
    {
     "name": "stdout",
     "output_type": "stream",
     "text": [
      "2019-10-17 19:08:38\n"
     ]
    },
    {
     "ename": "FileNotFoundError",
     "evalue": "[Errno 2] No such file or directory: 'test.csv'",
     "output_type": "error",
     "traceback": [
      "\u001b[0;31m---------------------------------------------------------------------------\u001b[0m",
      "\u001b[0;31mFileNotFoundError\u001b[0m                         Traceback (most recent call last)",
      "\u001b[0;32m<ipython-input-2-433a7ef97521>\u001b[0m in \u001b[0;36m<module>\u001b[0;34m\u001b[0m\n\u001b[1;32m      9\u001b[0m \u001b[0;31m#     threading.Timer(10, monitor).start()\u001b[0m\u001b[0;34m\u001b[0m\u001b[0;34m\u001b[0m\u001b[0;34m\u001b[0m\u001b[0m\n\u001b[1;32m     10\u001b[0m \u001b[0;34m\u001b[0m\u001b[0m\n\u001b[0;32m---> 11\u001b[0;31m \u001b[0mmonitor\u001b[0m\u001b[0;34m(\u001b[0m\u001b[0;34m)\u001b[0m\u001b[0;34m\u001b[0m\u001b[0;34m\u001b[0m\u001b[0m\n\u001b[0m",
      "\u001b[0;32m<ipython-input-2-433a7ef97521>\u001b[0m in \u001b[0;36mmonitor\u001b[0;34m()\u001b[0m\n\u001b[1;32m      6\u001b[0m     \u001b[0mprint\u001b[0m\u001b[0;34m(\u001b[0m\u001b[0mtime\u001b[0m\u001b[0;34m.\u001b[0m\u001b[0mstrftime\u001b[0m\u001b[0;34m(\u001b[0m\u001b[0;34m\"%Y-%m-%d %H:%M:%S\"\u001b[0m\u001b[0;34m,\u001b[0m \u001b[0mtime\u001b[0m\u001b[0;34m.\u001b[0m\u001b[0mgmtime\u001b[0m\u001b[0;34m(\u001b[0m\u001b[0mtime\u001b[0m\u001b[0;34m.\u001b[0m\u001b[0mtime\u001b[0m\u001b[0;34m(\u001b[0m\u001b[0;34m)\u001b[0m\u001b[0;34m+\u001b[0m\u001b[0;34m(\u001b[0m\u001b[0;36m3600\u001b[0m\u001b[0;34m*\u001b[0m\u001b[0;36m8\u001b[0m\u001b[0;34m)\u001b[0m\u001b[0;34m)\u001b[0m\u001b[0;34m)\u001b[0m\u001b[0;34m)\u001b[0m\u001b[0;34m\u001b[0m\u001b[0;34m\u001b[0m\u001b[0m\n\u001b[1;32m      7\u001b[0m     \u001b[0mfile_name\u001b[0m \u001b[0;34m=\u001b[0m \u001b[0;34m'test.csv'\u001b[0m\u001b[0;34m\u001b[0m\u001b[0;34m\u001b[0m\u001b[0m\n\u001b[0;32m----> 8\u001b[0;31m     \u001b[0mcalculate_stats\u001b[0m\u001b[0;34m(\u001b[0m\u001b[0mfile_name\u001b[0m\u001b[0;34m)\u001b[0m\u001b[0;34m\u001b[0m\u001b[0;34m\u001b[0m\u001b[0m\n\u001b[0m\u001b[1;32m      9\u001b[0m \u001b[0;31m#     threading.Timer(10, monitor).start()\u001b[0m\u001b[0;34m\u001b[0m\u001b[0;34m\u001b[0m\u001b[0;34m\u001b[0m\u001b[0m\n\u001b[1;32m     10\u001b[0m \u001b[0;34m\u001b[0m\u001b[0m\n",
      "\u001b[0;32m<ipython-input-1-1d1e64816035>\u001b[0m in \u001b[0;36mcalculate_stats\u001b[0;34m(file_name)\u001b[0m\n\u001b[1;32m      4\u001b[0m \u001b[0;34m\u001b[0m\u001b[0m\n\u001b[1;32m      5\u001b[0m     \u001b[0minfo\u001b[0m \u001b[0;34m=\u001b[0m \u001b[0;34m[\u001b[0m\u001b[0;34m]\u001b[0m\u001b[0;34m\u001b[0m\u001b[0;34m\u001b[0m\u001b[0m\n\u001b[0;32m----> 6\u001b[0;31m     \u001b[0;32mwith\u001b[0m \u001b[0mopen\u001b[0m\u001b[0;34m(\u001b[0m\u001b[0mfile_name\u001b[0m\u001b[0;34m)\u001b[0m \u001b[0;32mas\u001b[0m \u001b[0mcsv_file\u001b[0m\u001b[0;34m:\u001b[0m\u001b[0;34m\u001b[0m\u001b[0;34m\u001b[0m\u001b[0m\n\u001b[0m\u001b[1;32m      7\u001b[0m         \u001b[0mcsv_reader\u001b[0m \u001b[0;34m=\u001b[0m \u001b[0mcsv\u001b[0m\u001b[0;34m.\u001b[0m\u001b[0mreader\u001b[0m\u001b[0;34m(\u001b[0m\u001b[0mcsv_file\u001b[0m\u001b[0;34m,\u001b[0m \u001b[0mdelimiter\u001b[0m\u001b[0;34m=\u001b[0m\u001b[0;34m','\u001b[0m\u001b[0;34m)\u001b[0m\u001b[0;34m\u001b[0m\u001b[0;34m\u001b[0m\u001b[0m\n\u001b[1;32m      8\u001b[0m         \u001b[0;32mfor\u001b[0m \u001b[0mrow\u001b[0m \u001b[0;32min\u001b[0m \u001b[0mcsv_reader\u001b[0m\u001b[0;34m:\u001b[0m\u001b[0;34m\u001b[0m\u001b[0;34m\u001b[0m\u001b[0m\n",
      "\u001b[0;31mFileNotFoundError\u001b[0m: [Errno 2] No such file or directory: 'test.csv'"
     ]
    }
   ],
   "source": [
    "import time, threading\n",
    "from IPython.display import clear_output\n",
    "\n",
    "def monitor():\n",
    "    clear_output()\n",
    "    print(time.strftime(\"%Y-%m-%d %H:%M:%S\", time.gmtime(time.time()+(3600*8))))\n",
    "    file_name = 'test.csv'\n",
    "    calculate_stats(file_name)\n",
    "#     threading.Timer(10, monitor).start()\n",
    "\n",
    "monitor()"
   ]
  },
  {
   "cell_type": "code",
   "execution_count": 4,
   "metadata": {},
   "outputs": [],
   "source": [
    "def calculate_stats_iqr(file_name):\n",
    "    import numpy as np\n",
    "    import csv\n",
    "    \n",
    "    info = []\n",
    "    with open(file_name) as csv_file:\n",
    "        csv_reader = csv.reader(csv_file, delimiter=',')\n",
    "        for row in csv_reader:\n",
    "            row = [float(x) for x in row]\n",
    "            info.append(row)\n",
    "    csv_file.close()\n",
    "    \n",
    "    info = np.array(info)\n",
    "    shape = info.shape\n",
    "    (num_of_exp, _) = shape\n",
    "    \n",
    "    if num_of_exp > 100:\n",
    "        info = info[:100]\n",
    "    \n",
    "    mean = np.mean(info, axis=0)\n",
    "    std = np.std(info, axis=0)\n",
    "    mean = np.array([round(x, 4) for x in mean])\n",
    "    std = np.array([round(x, 3) for x in std])\n",
    "\n",
    "    iqr_infos = []\n",
    "    for iqr in [0, 0.25, 0.5, 0.75, 1]:\n",
    "        iqr_info = [round(x, 4) for x in np.quantile(info, iqr, interpolation='midpoint', axis=0)]\n",
    "        iqr_infos.append(iqr_info)\n",
    "        \n",
    "    return iqr_infos"
   ]
  },
  {
   "cell_type": "code",
   "execution_count": 53,
   "metadata": {},
   "outputs": [
    {
     "data": {
      "image/png": "[encoded data removed]",
      "text/plain": [
       "<Figure size 1728x288 with 3 Axes>"
      ]
     },
     "metadata": {
      "needs_background": "light"
     },
     "output_type": "display_data"
    }
   ],
   "source": [
    "import numpy as np\n",
    "file_names = ['Arch_1_Layer_Input_Proper_3000_none.csv', \n",
    "              'Arch_2_Layer_Input_Proper_3000_none.csv', \n",
    "              'Arch_3_Layer_Input_Proper_3000_none.csv', \n",
    "              'Arch_4_Layer_Input_Proper_3000_none.csv']\n",
    "\n",
    "\n",
    "\n",
    "iqr_infos_list = []\n",
    "for file_name in file_names:\n",
    "    iqr_infos_list.append(calculate_stats_iqr(file_name))\n",
    "    \n",
    "iqr_infos_list = np.array(iqr_infos_list)\n",
    "\n",
    "'''\n",
    "Distribution iqr \n",
    "'''\n",
    "import matplotlib.pyplot as plt\n",
    "%matplotlib inline\n",
    "fig, ax = plt.subplots(nrows=1, ncols=3, sharex=True, figsize=(24, 4))\n",
    "fig.text(0.5, 0.02, 'Number of hidden layers', ha='center')\n",
    "\n",
    "x = [1, 2, 3, 4] # Hyperparameters\n",
    "axis = [0, 5, -0.1, 1.1]\n",
    "\n",
    "plt.subplot(1, 3, 1)\n",
    "data = list(iqr_infos_list[:, :, 4])\n",
    "data = [(1-x) for x in data]\n",
    "boxStyle = {'color':'#85A894','linewidth':1}\n",
    "whiskerStyle = {'color':'#85A894','linewidth':1}\n",
    "medianStyle = {'color':'#FCE4A8','linewidth':1}\n",
    "plt.boxplot(data)\n",
    "plt.title('False Positive Rate (FPR)') # Hyperparameters\n",
    "plt.axis(axis)\n",
    "\n",
    "plt.subplot(1, 3, 2)\n",
    "data = list(iqr_infos_list[:, :, 5])\n",
    "data = [(1-x) for x in data]\n",
    "boxStyle = {'color':'#85A894','linewidth':1}\n",
    "whiskerStyle = {'color':'#85A894','linewidth':1}\n",
    "medianStyle = {'color':'#FCE4A8','linewidth':1}\n",
    "plt.boxplot(data)\n",
    "plt.title('False Negative Rate (FNR)') # Hyperparameters\n",
    "plt.axis(axis)\n",
    "\n",
    "\n",
    "'''\n",
    "Average Curve\n",
    "'''\n",
    "benign_means, benign_stds = [], []\n",
    "adv_means, adv_stds = [], []\n",
    "for file_name in file_names:\n",
    "    (mean, std) = calculate_stats(file_name)\n",
    "    benign_means.append(mean[4])\n",
    "    benign_stds.append(std[4])\n",
    "    adv_means.append(mean[5])\n",
    "    adv_stds.append(std[5])    \n",
    "\n",
    "ys = [benign_means, adv_means]\n",
    "titles = ['Average FPR', 'Average FNR'] # Hyperparameters\n",
    "\n",
    "plt.subplot(1, 3, 3)\n",
    "for idx, (y, title) in enumerate(zip(ys, titles)):\n",
    "    y = [(1-i) for i in y]\n",
    "    if idx == 0:\n",
    "        plt.plot(x, y, 'bo')\n",
    "    else:\n",
    "        plt.plot(x, y, 'ro')\n",
    "\n",
    "for idx, (y, title) in enumerate(zip(ys, titles)):\n",
    "    y = [(1-i) for i in y]\n",
    "    if idx == 0:\n",
    "        plt.plot(x, y, 'b')\n",
    "    else:\n",
    "        plt.plot(x, y, 'r')\n",
    "    \n",
    "plt.legend(titles, loc='upper right')\n",
    "plt.axis(axis)\n",
    "plt.title('Average FPR & FNR') # Hyperparameters\n",
    "# plt.show()\n",
    "plt.savefig('exp1_3000.png')"
   ]
  },
  {
   "cell_type": "code",
   "execution_count": null,
   "metadata": {},
   "outputs": [],
   "source": []
  }
 ],
 "metadata": {
  "kernelspec": {
   "display_name": "Python 3",
   "language": "python",
   "name": "python3"
  },
  "language_info": {
   "codemirror_mode": {
    "name": "ipython",
    "version": 3
   },
   "file_extension": ".py",
   "mimetype": "text/x-python",
   "name": "python",
   "nbconvert_exporter": "python",
   "pygments_lexer": "ipython3",
   "version": "3.7.3"
  }
 },
 "nbformat": 4,
 "nbformat_minor": 2
}
