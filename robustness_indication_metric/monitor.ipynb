{
 "cells": [
  {
   "cell_type": "code",
   "execution_count": 1,
   "metadata": {},
   "outputs": [],
   "source": [
    "import monitor \n",
    "M = monitor.Monitor()"
   ]
  },
  {
   "cell_type": "code",
   "execution_count": 2,
   "metadata": {},
   "outputs": [
    {
     "name": "stdout",
     "output_type": "stream",
     "text": [
      "2019-10-20 17:13:29\n",
      "(10, 6)\n",
      "674.0 0.0\n",
      "826.0 0.0\n",
      "24.4 12.855\n",
      "22.9 14.032\n",
      "0.977 0.01\n",
      "0.527 0.438\n"
     ]
    }
   ],
   "source": [
    "file_name = 'test.csv'\n",
    "M.check(file_name)"
   ]
  },
  {
   "cell_type": "code",
   "execution_count": 3,
   "metadata": {},
   "outputs": [
    {
     "name": "stdout",
     "output_type": "stream",
     "text": [
      "(100, 6)\n",
      "1364.0 0.0\n",
      "1636.0 0.0\n",
      "432.98 93.588\n",
      "738.56 175.844\n",
      "0.6884 0.065\n",
      "0.9821 0.03\n",
      "(100, 6)\n",
      "1364.0 0.0\n",
      "1636.0 0.0\n",
      "463.52 100.624\n",
      "674.4 170.379\n",
      "0.7142 0.066\n",
      "0.991 0.021\n",
      "(100, 6)\n",
      "1364.0 0.0\n",
      "1636.0 0.0\n",
      "506.94 127.957\n",
      "674.99 182.066\n",
      "0.6953 0.072\n",
      "0.9989 0.005\n",
      "(100, 6)\n",
      "1364.0 0.0\n",
      "1636.0 0.0\n",
      "490.72 141.795\n",
      "596.43 180.541\n",
      "0.7188 0.077\n",
      "0.999 0.006\n"
     ]
    },
    {
     "ename": "NameError",
     "evalue": "name 'x' is not defined",
     "output_type": "error",
     "traceback": [
      "\u001b[0;31m---------------------------------------------------------------------------\u001b[0m",
      "\u001b[0;31mNameError\u001b[0m                                 Traceback (most recent call last)",
      "\u001b[0;32m<ipython-input-3-e264ae0c2d35>\u001b[0m in \u001b[0;36m<module>\u001b[0;34m\u001b[0m\n\u001b[1;32m     10\u001b[0m              'export_file_name': '../Images/Exp1/exp1_3000.png'}\n\u001b[1;32m     11\u001b[0m \u001b[0;34m\u001b[0m\u001b[0m\n\u001b[0;32m---> 12\u001b[0;31m \u001b[0mM\u001b[0m\u001b[0;34m.\u001b[0m\u001b[0mdraw\u001b[0m\u001b[0;34m(\u001b[0m\u001b[0marguments\u001b[0m\u001b[0;34m)\u001b[0m\u001b[0;34m\u001b[0m\u001b[0;34m\u001b[0m\u001b[0m\n\u001b[0m",
      "\u001b[0;32m~/Desktop/FYT New/robustness_indication_metric/monitor.py\u001b[0m in \u001b[0;36mdraw\u001b[0;34m(self, args)\u001b[0m\n\u001b[1;32m    128\u001b[0m             \u001b[0my\u001b[0m \u001b[0;34m=\u001b[0m \u001b[0;34m[\u001b[0m\u001b[0;34m(\u001b[0m\u001b[0;36m1\u001b[0m\u001b[0;34m-\u001b[0m\u001b[0mi\u001b[0m\u001b[0;34m)\u001b[0m \u001b[0;32mfor\u001b[0m \u001b[0mi\u001b[0m \u001b[0;32min\u001b[0m \u001b[0my\u001b[0m\u001b[0;34m]\u001b[0m\u001b[0;34m\u001b[0m\u001b[0;34m\u001b[0m\u001b[0m\n\u001b[1;32m    129\u001b[0m             \u001b[0;32mif\u001b[0m \u001b[0midx\u001b[0m \u001b[0;34m==\u001b[0m \u001b[0;36m0\u001b[0m\u001b[0;34m:\u001b[0m\u001b[0;34m\u001b[0m\u001b[0;34m\u001b[0m\u001b[0m\n\u001b[0;32m--> 130\u001b[0;31m                 \u001b[0mplt\u001b[0m\u001b[0;34m.\u001b[0m\u001b[0mplot\u001b[0m\u001b[0;34m(\u001b[0m\u001b[0mx\u001b[0m\u001b[0;34m,\u001b[0m \u001b[0my\u001b[0m\u001b[0;34m,\u001b[0m \u001b[0;34m'bo'\u001b[0m\u001b[0;34m)\u001b[0m\u001b[0;34m\u001b[0m\u001b[0;34m\u001b[0m\u001b[0m\n\u001b[0m\u001b[1;32m    131\u001b[0m             \u001b[0;32melse\u001b[0m\u001b[0;34m:\u001b[0m\u001b[0;34m\u001b[0m\u001b[0;34m\u001b[0m\u001b[0m\n\u001b[1;32m    132\u001b[0m                 \u001b[0mplt\u001b[0m\u001b[0;34m.\u001b[0m\u001b[0mplot\u001b[0m\u001b[0;34m(\u001b[0m\u001b[0mx\u001b[0m\u001b[0;34m,\u001b[0m \u001b[0my\u001b[0m\u001b[0;34m,\u001b[0m \u001b[0;34m'ro'\u001b[0m\u001b[0;34m)\u001b[0m\u001b[0;34m\u001b[0m\u001b[0;34m\u001b[0m\u001b[0m\n",
      "\u001b[0;31mNameError\u001b[0m: name 'x' is not defined"
     ]
    },
    {
     "data": {
      "image/png": "[encoded data removed]",
      "text/plain": [
       "<Figure size 1728x288 with 3 Axes>"
      ]
     },
     "metadata": {
      "needs_background": "light"
     },
     "output_type": "display_data"
    }
   ],
   "source": [
    "%matplotlib inline\n",
    "arguments = {'file_names': ['Arch_1_Layer_Input_Proper_3000_none.csv',\n",
    "                           'Arch_2_Layer_Input_Proper_3000_none.csv', \n",
    "                           'Arch_3_Layer_Input_Proper_3000_none.csv',\n",
    "                           'Arch_4_Layer_Input_Proper_3000_none.csv'],\n",
    "             'x': [1, 2, 3, 4],\n",
    "             'axis': [0, 5, -0.1, 1.1],\n",
    "             'x_label': \"Number of hidden layers\", \n",
    "             'sub_x_labels': ['1', '2', '3', '4'],\n",
    "             'export_file_name': '../Images/Exp1/exp1_3000.png'}\n",
    "\n",
    "M.draw(arguments)"
   ]
  },
  {
   "cell_type": "code",
   "execution_count": null,
   "metadata": {},
   "outputs": [],
   "source": []
  }
 ],
 "metadata": {
  "kernelspec": {
   "display_name": "Python 3",
   "language": "python",
   "name": "python3"
  },
  "language_info": {
   "codemirror_mode": {
    "name": "ipython",
    "version": 3
   },
   "file_extension": ".py",
   "mimetype": "text/x-python",
   "name": "python",
   "nbconvert_exporter": "python",
   "pygments_lexer": "ipython3",
   "version": "3.7.3"
  }
 },
 "nbformat": 4,
 "nbformat_minor": 2
}
