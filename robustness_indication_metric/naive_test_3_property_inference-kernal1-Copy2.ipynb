{
 "cells": [
  {
   "cell_type": "code",
   "execution_count": null,
   "metadata": {},
   "outputs": [],
   "source": [
    "import property_inference_interface\n",
    "interface = property_inference_interface.PropertyInferenceInterface()\n",
    "\n",
    "meta_params = {\n",
    "    'first_class': 5, \n",
    "    'second_class': 7, \n",
    "    'size_of_train_set': 500, \n",
    "    'size_of_test_set': 100,\n",
    "    'subsample_ratio': 1, \n",
    "    'flatten': True, \n",
    "    \n",
    "    'is_ran_per_included': False, \n",
    "    'ran_dist': 'uniform', \n",
    "    'uni_range': 0.2, \n",
    "    'normal_std': 0.1,\n",
    "    \n",
    "    'model_type': 'normal'\n",
    "}\n",
    "\n",
    "interface.set_meta_params(meta_params)\n",
    "interface.print_meta_params()"
   ]
  },
  {
   "cell_type": "code",
   "execution_count": null,
   "metadata": {},
   "outputs": [],
   "source": [
    "interface.prepare_dataset()\n",
    "interface.print_dataset_shape()"
   ]
  },
  {
   "cell_type": "code",
   "execution_count": null,
   "metadata": {},
   "outputs": [],
   "source": [
    "# Visualize the dataset\n",
    "%matplotlib inline\n",
    "interface.print_some_samples()"
   ]
  },
  {
   "cell_type": "code",
   "execution_count": null,
   "metadata": {},
   "outputs": [],
   "source": [
    "interface.generate_model()\n",
    "interface.eval_model()"
   ]
  },
  {
   "cell_type": "code",
   "execution_count": null,
   "metadata": {},
   "outputs": [],
   "source": [
    "print('Display the architectur')\n",
    "interface.model"
   ]
  },
  {
   "cell_type": "code",
   "execution_count": null,
   "metadata": {},
   "outputs": [],
   "source": [
    "interface.generate_set_of_preconditions()\n",
    "interface.print_set_of_preconditions()\n",
    "num_first_F, num_second_F, num_unqi_fist_F, num_unqi_secon_F = interface.info_about_set_of_preconditions()"
   ]
  },
  {
   "cell_type": "code",
   "execution_count": null,
   "metadata": {},
   "outputs": [],
   "source": [
    "benign_detect_ratio, adversarial_detect_ratio = interface.evaluate_algorithm_on_test_set()"
   ]
  },
  {
   "cell_type": "code",
   "execution_count": null,
   "metadata": {},
   "outputs": [],
   "source": [
    "exp_info = [num_first_F, num_second_F, num_unqi_fist_F, num_unqi_secon_F, benign_detect_ratio, adversarial_detect_ratio]\n",
    "print(exp_info)"
   ]
  },
  {
   "cell_type": "code",
   "execution_count": null,
   "metadata": {},
   "outputs": [],
   "source": [
    "def single_exp():\n",
    "    interface.generate_model()\n",
    "    acc = interface.eval_model()\n",
    "    if not (acc == 1.0):\n",
    "        interface.generate_model()\n",
    "        acc = interface.eval_model()\n",
    "        \n",
    "    interface.generate_set_of_preconditions()\n",
    "    num_first_F, num_second_F, num_unqi_fist_F, num_unqi_secon_F = interface.info_about_set_of_preconditions()\n",
    "    benign_detect_ratio, adversarial_detect_ratio = interface.evaluate_algorithm_on_test_set(verbose=True)\n",
    "    exp_info = [num_first_F, num_second_F, num_unqi_fist_F, num_unqi_secon_F, benign_detect_ratio, adversarial_detect_ratio]\n",
    "    return exp_info    \n",
    "\n",
    "def exp(num_of_trails, file_name):\n",
    "    cumulative_exp_info = []\n",
    "    \n",
    "    import csv \n",
    "\n",
    "    for i in range(num_of_trails):\n",
    "        print('trail', (i+1))\n",
    "        single_exp_info = single_exp()\n",
    "        cumulative_exp_info.append(single_exp_info)\n",
    "\n",
    "        with open(file_name, mode='a') as file:\n",
    "            writer = csv.writer(file, delimiter=',', quotechar='\"', quoting=csv.QUOTE_MINIMAL)\n",
    "            writer.writerow(single_exp_info)\n",
    "        file.close()\n",
    "\n",
    "        print(single_exp_info)\n",
    "        \n",
    "    return cumulative_exp_info\n",
    "\n",
    "file_name = 'test.csv'\n",
    "cumulative_exp_info = exp(50, file_name)"
   ]
  },
  {
   "cell_type": "code",
   "execution_count": null,
   "metadata": {},
   "outputs": [],
   "source": [
    "def count_current_columns(file_name):\n",
    "    import csv\n",
    "    with open(file_name) as csv_file:\n",
    "        csv_reader = csv.reader(csv_file, delimiter=',')\n",
    "        line_count = 0\n",
    "        for row in csv_reader:\n",
    "            assert len(row)==6\n",
    "            \n",
    "            print(f'Column names are {\", \".join(row)}', 'pass')\n",
    "            line_count += 1\n",
    "                  \n",
    "        print(f'Processed {line_count} lines.')\n",
    "                  \n",
    "file_name = 'test.csv'\n",
    "count_current_columns(file_name)"
   ]
  },
  {
   "cell_type": "code",
   "execution_count": null,
   "metadata": {},
   "outputs": [],
   "source": [
    "def calculate_stats(file_name):\n",
    "    import numpy as np\n",
    "    import csv\n",
    "    \n",
    "    info = []\n",
    "    with open(file_name) as csv_file:\n",
    "        csv_reader = csv.reader(csv_file, delimiter=',')\n",
    "        for row in csv_reader:\n",
    "            row = [float(x) for x in row]\n",
    "            info.append(row)\n",
    "    csv_file.close()\n",
    "    \n",
    "    info = np.array(info)\n",
    "    mean = np.mean(info, axis=0)\n",
    "    std = np.std(info, axis=0)\n",
    "    mean = np.array([round(x, 3) for x in mean])\n",
    "    std = np.array([round(x, 3) for x in std])\n",
    "    \n",
    "    print(info.shape)\n",
    "    for i in range(6):\n",
    "        print(mean[i], std[i])\n",
    "\n",
    "file_name = 'test.csv'\n",
    "calculate_stats(file_name)"
   ]
  },
  {
   "cell_type": "code",
   "execution_count": null,
   "metadata": {},
   "outputs": [],
   "source": []
  }
 ],
 "metadata": {
  "kernelspec": {
   "display_name": "Python 3",
   "language": "python",
   "name": "python3"
  },
  "language_info": {
   "codemirror_mode": {
    "name": "ipython",
    "version": 3
   },
   "file_extension": ".py",
   "mimetype": "text/x-python",
   "name": "python",
   "nbconvert_exporter": "python",
   "pygments_lexer": "ipython3",
   "version": "3.7.3"
  }
 },
 "nbformat": 4,
 "nbformat_minor": 2
}
