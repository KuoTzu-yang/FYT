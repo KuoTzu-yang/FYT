{
 "cells": [
  {
   "cell_type": "code",
   "execution_count": 1,
   "metadata": {},
   "outputs": [
    {
     "name": "stdout",
     "output_type": "stream",
     "text": [
      "num_of_LPs           : 4\n",
      "size_of_train_set    : 10000\n",
      "size_of_test_set     : 100\n",
      "flatten              : False\n",
      "model_type           : CNN\n",
      "adv_attack           : i_FGSM\n"
     ]
    }
   ],
   "source": [
    "import property_inference_interface\n",
    "interface = property_inference_interface.PropertyInferenceInterface()\n",
    "\n",
    "meta_params = {\n",
    "    'num_of_LPs': 4,\n",
    "    'size_of_train_set': 10000,\n",
    "    'size_of_test_set': 100,\n",
    "    'flatten': False, \n",
    "    'model_type': 'CNN',\n",
    "    'adv_attack': 'i_FGSM'\n",
    "}\n",
    "\n",
    "interface.set_meta_params(meta_params)\n",
    "interface.print_meta_params()"
   ]
  },
  {
   "cell_type": "code",
   "execution_count": 2,
   "metadata": {},
   "outputs": [
    {
     "name": "stdout",
     "output_type": "stream",
     "text": [
      "Train dataset\n",
      "(10000, 1, 28, 28) (10000,)\n",
      "Test dataset\n",
      "(100, 1, 28, 28) (100,)\n"
     ]
    }
   ],
   "source": [
    "interface.prepare_dataset()\n",
    "interface.print_dataset_shape()"
   ]
  },
  {
   "cell_type": "code",
   "execution_count": 3,
   "metadata": {
    "scrolled": true
   },
   "outputs": [
    {
     "data": {
      "image/png": "[encoded data removed]",
      "text/plain": [
       "<Figure size 432x288 with 32 Axes>"
      ]
     },
     "metadata": {
      "needs_background": "light"
     },
     "output_type": "display_data"
    }
   ],
   "source": [
    "# Visualize the dataset\n",
    "%matplotlib inline\n",
    "interface.print_some_samples()"
   ]
  },
  {
   "cell_type": "code",
   "execution_count": 4,
   "metadata": {},
   "outputs": [
    {
     "name": "stdout",
     "output_type": "stream",
     "text": [
      "Model ( train ) accurancy: 0.9847\n",
      "Model ( test ) accurancy: 0.98\n"
     ]
    },
    {
     "data": {
      "text/plain": [
       "0.98"
      ]
     },
     "execution_count": 4,
     "metadata": {},
     "output_type": "execute_result"
    }
   ],
   "source": [
    "# interface.generate_model(num_of_epochs=15)\n",
    "interface.load_model('MNIST_CNN.pt')\n",
    "interface.eval_model('train')\n",
    "interface.eval_model('test')\n",
    "# interface.store_model('MNIST_CNN.pt')"
   ]
  },
  {
   "cell_type": "code",
   "execution_count": 5,
   "metadata": {},
   "outputs": [
    {
     "name": "stdout",
     "output_type": "stream",
     "text": [
      "Display the architecture\n"
     ]
    },
    {
     "data": {
      "text/plain": [
       "CNN(\n",
       "  (conv1): Conv2d(1, 16, kernel_size=(5, 5), stride=(1, 1))\n",
       "  (conv2): Conv2d(16, 16, kernel_size=(5, 5), stride=(1, 1))\n",
       "  (conv3): Conv2d(16, 32, kernel_size=(5, 5), stride=(1, 1))\n",
       "  (fc1): Linear(in_features=288, out_features=64, bias=True)\n",
       "  (fc2): Linear(in_features=64, out_features=10, bias=True)\n",
       ")"
      ]
     },
     "execution_count": 5,
     "metadata": {},
     "output_type": "execute_result"
    }
   ],
   "source": [
    "print('Display the architecture')\n",
    "interface.model"
   ]
  },
  {
   "cell_type": "code",
   "execution_count": 6,
   "metadata": {
    "scrolled": true
   },
   "outputs": [
    {
     "name": "stdout",
     "output_type": "stream",
     "text": [
      "LPs shape of 1 th class: (4,)\n",
      "(1001, 9216)\n",
      "(1001, 1600)\n",
      "(1001, 288)\n",
      "(1001, 64)\n",
      "LPs shape of 2 th class: (4,)\n",
      "(1127, 9216)\n",
      "(1127, 1600)\n",
      "(1127, 288)\n",
      "(1127, 64)\n",
      "LPs shape of 3 th class: (4,)\n",
      "(991, 9216)\n",
      "(991, 1600)\n",
      "(991, 288)\n",
      "(991, 64)\n",
      "LPs shape of 4 th class: (4,)\n",
      "(1032, 9216)\n",
      "(1032, 1600)\n",
      "(1032, 288)\n",
      "(1032, 64)\n",
      "LPs shape of 5 th class: (4,)\n",
      "(980, 9216)\n",
      "(980, 1600)\n",
      "(980, 288)\n",
      "(980, 64)\n",
      "LPs shape of 6 th class: (4,)\n",
      "(863, 9216)\n",
      "(863, 1600)\n",
      "(863, 288)\n",
      "(863, 64)\n",
      "LPs shape of 7 th class: (4,)\n",
      "(1014, 9216)\n",
      "(1014, 1600)\n",
      "(1014, 288)\n",
      "(1014, 64)\n",
      "LPs shape of 8 th class: (4,)\n",
      "(1070, 9216)\n",
      "(1070, 1600)\n",
      "(1070, 288)\n",
      "(1070, 64)\n",
      "LPs shape of 9 th class: (4,)\n",
      "(944, 9216)\n",
      "(944, 1600)\n",
      "(944, 288)\n",
      "(944, 64)\n",
      "LPs shape of 10 th class: (4,)\n",
      "(978, 9216)\n",
      "(978, 1600)\n",
      "(978, 288)\n",
      "(978, 64)\n"
     ]
    }
   ],
   "source": [
    "interface.generate_LPs()\n",
    "interface.print_LPs()\n",
    "model = interface.model"
   ]
  },
  {
   "cell_type": "code",
   "execution_count": 7,
   "metadata": {},
   "outputs": [
    {
     "name": "stderr",
     "output_type": "stream",
     "text": [
      "Using TensorFlow backend.\n"
     ]
    },
    {
     "name": "stdout",
     "output_type": "stream",
     "text": [
      "0.0001 [0.9081632653061225, 0.9680851063829787]\n"
     ]
    }
   ],
   "source": [
    "# alphas = [.5, .4, .3, .2, 1e-1, 1e-2, 1e-3, 1e-4, 8e-5, 5e-5, 2e-5, 1e-5, 5e-6, 1e-6, 5e-7, 1e-7, 7e-8, 5e-8, 2e-8, 1e-8, 5e-9, 1e-9, 1e-10, 1e-11, 1e-12, 1e-13, 1e-14, 1e-15, 1e-16]\n",
    "alphas = [1e-4]\n",
    "for alpha in alphas:\n",
    "    (B_detect_ratio, A_detect_ratio), (B_LPs, A_LPs), (B_LPs_score, A_LPs_score) = interface.evaluate_algorithm_on_test_set(alpha, verbose=False)\n",
    "    exp_info = [B_detect_ratio, A_detect_ratio]\n",
    "    print(alpha, exp_info)"
   ]
  },
  {
   "cell_type": "code",
   "execution_count": 8,
   "metadata": {},
   "outputs": [
    {
     "name": "stdout",
     "output_type": "stream",
     "text": [
      "(98, 4) (94, 4)\n",
      "[0.         0.05102041 0.05102041 0.94897959]\n",
      "[0.86170213 0.54255319 0.82978723 0.88297872]\n",
      "(98, 4) (94, 4)\n"
     ]
    },
    {
     "data": {
      "image/png": "[encoded data removed]",
      "text/plain": [
       "<Figure size 432x288 with 1 Axes>"
      ]
     },
     "metadata": {
      "needs_background": "light"
     },
     "output_type": "display_data"
    },
    {
     "data": {
      "image/png": "[encoded data removed]",
      "text/plain": [
       "<Figure size 432x288 with 1 Axes>"
      ]
     },
     "metadata": {
      "needs_background": "light"
     },
     "output_type": "display_data"
    }
   ],
   "source": [
    "import numpy as np\n",
    "\n",
    "BLPs, ALPs = np.array(B_LPs), np.array(A_LPs)\n",
    "print(BLPs.shape, ALPs.shape)\n",
    "\n",
    "BLPs[BLPs=='benign'] = 1\n",
    "BLPs[BLPs=='adversarial'] = 0\n",
    "BLPs = BLPs.astype(np.int)\n",
    "prob_BLPs = np.sum(BLPs, axis=0) / BLPs.shape[0]\n",
    "\n",
    "ALPs[ALPs=='benign'] = 1\n",
    "ALPs[ALPs=='adversarial'] = 0\n",
    "ALPs = ALPs.astype(np.int)\n",
    "prob_ALPs = np.sum(ALPs, axis=0) / ALPs.shape[0]\n",
    "\n",
    "\n",
    "print(1 - prob_BLPs)\n",
    "print(1 - prob_ALPs)\n",
    "\n",
    "BLPs_score, ALPs_score = np.array(B_LPs_score), np.array(A_LPs_score)\n",
    "print(BLPs.shape, ALPs.shape)\n",
    "\n",
    "%matplotlib inline        \n",
    "import matplotlib.pyplot as plt\n",
    "\n",
    "LPs_score = BLPs_score\n",
    "for i in range(LPs_score.shape[1]):\n",
    "    LP_score = LPs_score[:,i]\n",
    "    plt.plot(LP_score, np.arange(LP_score.shape[0]), 'o')\n",
    "\n",
    "plt.legend(['LP1', 'LP2', 'LP3', 'LP4'])\n",
    "plt.xlim(-50, 800)\n",
    "plt.show()\n",
    "\n",
    "LPs_score = ALPs_score\n",
    "for i in range(LPs_score.shape[1]):\n",
    "    LP_score = LPs_score[:,i]\n",
    "    plt.plot(LP_score, np.arange(LP_score.shape[0]), 'o')\n",
    "\n",
    "plt.legend(['LP1', 'LP2', 'LP3', 'LP4'])\n",
    "plt.xlim(-50, 800)\n",
    "plt.show()"
   ]
  },
  {
   "cell_type": "code",
   "execution_count": 9,
   "metadata": {},
   "outputs": [],
   "source": [
    "def single_exp():\n",
    "    interface.generate_model(num_of_epochs=5)\n",
    "    interface.generate_LPs()\n",
    "    (benign_detect_ratio, adversarial_detect_ratio), (benign_LPs, adversarial_LPs) = interface.evaluate_algorithm_on_test_set(alpha, verbose=False)\n",
    "    exp_info = [benign_detect_ratio, adversarial_detect_ratio]\n",
    "    return exp_info    \n",
    "\n",
    "def exp(num_of_trails, file_name):\n",
    "    cumulative_exp_info = []\n",
    "    \n",
    "    import csv \n",
    "    for i in range(num_of_trails):\n",
    "        print('trail', (i+1))\n",
    "        single_exp_info = single_exp()\n",
    "        cumulative_exp_info.append(single_exp_info)\n",
    "\n",
    "        with open(file_name, mode='a', newline='') as file:\n",
    "            writer = csv.writer(file, delimiter=',', quotechar='\"', quoting=csv.QUOTE_MINIMAL)\n",
    "            writer.writerow(single_exp_info)\n",
    "        file.close()\n",
    "\n",
    "        print(single_exp_info)\n",
    "        \n",
    "    return cumulative_exp_info\n",
    "\n",
    "file_name = 'test.csv'\n",
    "# cumulative_exp_info = exp(40, file_name)"
   ]
  },
  {
   "cell_type": "code",
   "execution_count": 10,
   "metadata": {},
   "outputs": [
    {
     "name": "stdout",
     "output_type": "stream",
     "text": [
      "all pass\n"
     ]
    }
   ],
   "source": [
    "print('all pass')"
   ]
  }
 ],
 "metadata": {
  "kernelspec": {
   "display_name": "Python 3",
   "language": "python",
   "name": "python3"
  },
  "language_info": {
   "codemirror_mode": {
    "name": "ipython",
    "version": 3
   },
   "file_extension": ".py",
   "mimetype": "text/x-python",
   "name": "python",
   "nbconvert_exporter": "python",
   "pygments_lexer": "ipython3",
   "version": "3.6.7"
  }
 },
 "nbformat": 4,
 "nbformat_minor": 2
}
