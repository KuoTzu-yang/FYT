{
 "cells": [
  {
   "cell_type": "code",
   "execution_count": 1,
   "metadata": {},
   "outputs": [
    {
     "name": "stdout",
     "output_type": "stream",
     "text": [
      "size_of_test_set     : 100\n",
      "flatten              : True\n",
      "model_type           : normal\n",
      "adv_attack           : i_FGSM\n"
     ]
    }
   ],
   "source": [
    "import property_inference_interface\n",
    "interface = property_inference_interface.PropertyInferenceInterface()\n",
    "\n",
    "meta_params = {\n",
    "    'size_of_test_set': 100,\n",
    "    'flatten': True, \n",
    "    'model_type': 'normal',\n",
    "    'adv_attack': 'i_FGSM'\n",
    "}\n",
    "\n",
    "interface.set_meta_params(meta_params)\n",
    "interface.print_meta_params()"
   ]
  },
  {
   "cell_type": "code",
   "execution_count": 2,
   "metadata": {},
   "outputs": [
    {
     "name": "stdout",
     "output_type": "stream",
     "text": [
      "Train dataset\n",
      "(50000, 784) (50000,)\n",
      "Test dataset\n",
      "(100, 784) (100,)\n"
     ]
    }
   ],
   "source": [
    "interface.prepare_dataset()\n",
    "interface.print_dataset_shape()"
   ]
  },
  {
   "cell_type": "code",
   "execution_count": 3,
   "metadata": {},
   "outputs": [
    {
     "data": {
      "image/png": "[encoded data removed]",
      "text/plain": [
       "<Figure size 432x288 with 32 Axes>"
      ]
     },
     "metadata": {
      "needs_background": "light"
     },
     "output_type": "display_data"
    }
   ],
   "source": [
    "# Visualize the dataset\n",
    "%matplotlib inline\n",
    "interface.print_some_samples()"
   ]
  },
  {
   "cell_type": "code",
   "execution_count": null,
   "metadata": {},
   "outputs": [
    {
     "name": "stdout",
     "output_type": "stream",
     "text": [
      "0\n"
     ]
    }
   ],
   "source": [
    "interface.generate_model(num_of_epochs=5)\n",
    "interface.eval_model('train')\n",
    "interface.eval_model('test')"
   ]
  },
  {
   "cell_type": "code",
   "execution_count": null,
   "metadata": {},
   "outputs": [],
   "source": [
    "print('Display the architectur')\n",
    "interface.model"
   ]
  },
  {
   "cell_type": "code",
   "execution_count": null,
   "metadata": {},
   "outputs": [],
   "source": [
    "interface.generate_LPs()\n",
    "interface.print_LPs()\n",
    "model = interface.model"
   ]
  },
  {
   "cell_type": "code",
   "execution_count": null,
   "metadata": {},
   "outputs": [],
   "source": [
    "\n",
    "\n",
    "alphas = [.5, .4, .3, .2, 1e-1, 1e-2, 1e-3, 1e-4, 8e-5, 5e-5, 2e-5, 1e-5, 5e-6, 1e-6, 5e-7, 1e-7, 7e-8, 5e-8, 2e-8, 1e-8, 5e-9, 1e-9, 1e-10, 1e-11, 1e-12, 1e-13, 1e-14, 1e-15, 1e-16]\n",
    "for alpha in alphas:\n",
    "    (benign_detect_ratio, adversarial_detect_ratio), (benign_LPs, adversarial_LPs) = interface.evaluate_algorithm_on_test_set(alpha, verbose=False)\n",
    "    exp_info = [benign_detect_ratio, adversarial_detect_ratio]\n",
    "    print(alpha, exp_info)"
   ]
  },
  {
   "cell_type": "code",
   "execution_count": null,
   "metadata": {},
   "outputs": [],
   "source": [
    "import numpy as np\n",
    "\n",
    "BLPs, ALPs = np.array(benign_LPs), np.array(adversarial_LPs)\n",
    "print(BLPs.shape, ALPs.shape)\n",
    "\n",
    "BLPs[BLPs=='benign'] = 1\n",
    "BLPs[BLPs=='adversarial'] = 0\n",
    "BLPs = BLPs.astype(np.int)\n",
    "prob_BLPs = np.sum(BLPs, axis=0) / BLPs.shape[0]\n",
    "\n",
    "ALPs[ALPs=='benign'] = 1\n",
    "ALPs[ALPs=='adversarial'] = 0\n",
    "ALPs = ALPs.astype(np.int)\n",
    "prob_ALPs = np.sum(ALPs, axis=0) / ALPs.shape[0]\n",
    "\n",
    "print(1 - prob_BLPs)\n",
    "print(1 - prob_ALPs)"
   ]
  },
  {
   "cell_type": "code",
   "execution_count": null,
   "metadata": {},
   "outputs": [],
   "source": [
    "def single_exp():\n",
    "    interface.generate_model(num_of_epochs=5)\n",
    "    interface.generate_LPs()\n",
    "    (benign_detect_ratio, adversarial_detect_ratio), (benign_LPs, adversarial_LPs) = interface.evaluate_algorithm_on_test_set(alpha, verbose=False)\n",
    "    exp_info = [benign_detect_ratio, adversarial_detect_ratio]\n",
    "    return exp_info    \n",
    "\n",
    "def exp(num_of_trails, file_name):\n",
    "    cumulative_exp_info = []\n",
    "    \n",
    "    import csv \n",
    "    for i in range(num_of_trails):\n",
    "        print('trail', (i+1))\n",
    "        single_exp_info = single_exp()\n",
    "        cumulative_exp_info.append(single_exp_info)\n",
    "\n",
    "        with open(file_name, mode='a', newline='') as file:\n",
    "            writer = csv.writer(file, delimiter=',', quotechar='\"', quoting=csv.QUOTE_MINIMAL)\n",
    "            writer.writerow(single_exp_info)\n",
    "        file.close()\n",
    "\n",
    "        print(single_exp_info)\n",
    "        \n",
    "    return cumulative_exp_info\n",
    "\n",
    "file_name = 'test.csv'\n",
    "# cumulative_exp_info = exp(40, file_name)"
   ]
  },
  {
   "cell_type": "code",
   "execution_count": null,
   "metadata": {},
   "outputs": [],
   "source": [
    "print('all pass')"
   ]
  }
 ],
 "metadata": {
  "kernelspec": {
   "display_name": "Python 3",
   "language": "python",
   "name": "python3"
  },
  "language_info": {
   "codemirror_mode": {
    "name": "ipython",
    "version": 3
   },
   "file_extension": ".py",
   "mimetype": "text/x-python",
   "name": "python",
   "nbconvert_exporter": "python",
   "pygments_lexer": "ipython3",
   "version": "3.7.3"
  }
 },
 "nbformat": 4,
 "nbformat_minor": 2
}
