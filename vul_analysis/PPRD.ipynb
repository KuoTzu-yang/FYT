{
 "cells": [
  {
   "cell_type": "code",
   "execution_count": 1,
   "metadata": {},
   "outputs": [
    {
     "name": "stdout",
     "output_type": "stream",
     "text": [
      "1000 100\n",
      "(100, 1, 28, 28)\n"
     ]
    },
    {
     "name": "stderr",
     "output_type": "stream",
     "text": [
      "/Users/kuotzuyang/opt/anaconda3/lib/python3.7/site-packages/torch/serialization.py:593: SourceChangeWarning: source code of class 'MNIST_models.CNN' has changed. you can retrieve the original source code by accessing the object's source attribute or set `torch.nn.Module.dump_patches = True` and use the patch tool to revert the changes.\n",
      "  warnings.warn(msg, SourceChangeWarning)\n",
      "/Users/kuotzuyang/opt/anaconda3/lib/python3.7/site-packages/torch/serialization.py:593: SourceChangeWarning: source code of class 'torch.nn.modules.conv.Conv2d' has changed. you can retrieve the original source code by accessing the object's source attribute or set `torch.nn.Module.dump_patches = True` and use the patch tool to revert the changes.\n",
      "  warnings.warn(msg, SourceChangeWarning)\n",
      "/Users/kuotzuyang/opt/anaconda3/lib/python3.7/site-packages/torch/serialization.py:593: SourceChangeWarning: source code of class 'torch.nn.modules.linear.Linear' has changed. you can retrieve the original source code by accessing the object's source attribute or set `torch.nn.Module.dump_patches = True` and use the patch tool to revert the changes.\n",
      "  warnings.warn(msg, SourceChangeWarning)\n"
     ]
    },
    {
     "data": {
      "text/plain": [
       "<Figure size 864x288 with 0 Axes>"
      ]
     },
     "metadata": {},
     "output_type": "display_data"
    }
   ],
   "source": [
    "import matplotlib.pyplot as plt\n",
    "import PI\n",
    "\n",
    "figsize = (12, 4)\n",
    "fig=plt.figure(figsize=figsize)\n",
    "\n",
    "\n",
    "meta_params = {\n",
    "    'num_of_train_dataset': 1000,\n",
    "    'num_of_test_dataset': 100,\n",
    "    'is_flatten': False\n",
    "}\n",
    "\n",
    "PI = PI.PIInterface(meta_params)\n",
    "\n",
    "import torch\n",
    "import torch.nn as nn\n",
    "import torch.optim as optim\n",
    "from MNIST_models import *\n",
    "\n",
    "model = load_model('store/MNIST_CNN.pt')\n",
    "PI.set_model(model)\n",
    "# print('train acc:', PI.eval_model('train'))\n",
    "# print('test acc:', PI.eval_model('test'))"
   ]
  },
  {
   "cell_type": "code",
   "execution_count": 2,
   "metadata": {},
   "outputs": [],
   "source": [
    "# # visualize the benign input and corresponding adv samples \n",
    "# samples, labels = PI.train_dataset\n",
    "\n",
    "# %matplotlib inline\n",
    "# from matplotlib import pyplot as plt\n",
    "# import numpy as np\n",
    "# import attacker\n",
    "# import time\n",
    "# import warnings\n",
    "# warnings.filterwarnings('ignore')\n",
    "\n",
    "\n",
    "# adv_types = ['None', 'FGSM', 'JSMA', 'CWL2', 'L1PGD', 'L2PGD', 'LINFPGD', 'L2BI', 'LINFBI', 'ENL1', 'DDNL2', 'LBFGS', 'SP', 'LS', 'ST']\n",
    "# print(len(adv_types))\n",
    "# formatted_adv_types = [adv_type.ljust(6) for adv_type in adv_types]\n",
    "# print('  '+' '.join(formatted_adv_types))\n",
    "\n",
    "# figsize=(5, 5)\n",
    "# fig=plt.figure(figsize=figsize)\n",
    "# columns, num_of_rows = len(adv_types), 8\n",
    "\n",
    "# for i in range(num_of_rows):\n",
    "#     sample, label = samples[i], labels[i]\n",
    "#     for col_index in range(columns):  \n",
    "#         adv_type = adv_types[col_index]\n",
    "#         if adv_type == 'None': \n",
    "#             plt_sample = sample \n",
    "#         else:\n",
    "#             plt_sample = PI.generate_adv_img(sample, label, model, adv_type)\n",
    "#             if plt_sample is None: \n",
    "#                 plt_sample = np.zeros((1, 28, 28)) \n",
    "            \n",
    "\n",
    "#         fig.add_subplot(num_of_rows, columns, (col_index+1)+(i*columns))\n",
    "#         plt.imshow(np.squeeze(plt_sample), cmap='gray')\n",
    "#         plt.xticks([])\n",
    "#         plt.yticks([])\n",
    "\n",
    "# fig.savefig('out.png')"
   ]
  },
  {
   "cell_type": "code",
   "execution_count": null,
   "metadata": {},
   "outputs": [
    {
     "name": "stdout",
     "output_type": "stream",
     "text": [
      "None 1000 100 900\n",
      "FGSM 813 81 732\n",
      "JSMA 966 96 870\n",
      "CWL2 877 87 790\n",
      "LINFPGD 978 97 881\n",
      "LINFBI 970 97 873\n",
      "ENL1 1000 100 900\n"
     ]
    }
   ],
   "source": [
    "import pickle\n",
    "\n",
    "# STORE\n",
    "# adv_types = ['None', 'FGSM', 'JSMA', 'CWL2', 'LINFPGD', 'LINFBI', 'ENL1', 'ST']\n",
    "# adv_types = ['ENL1', 'ST']\n",
    "# for adv_type in adv_types:\n",
    "#     if adv_type == 'None': \n",
    "#         fn_name='store/normal.txt'\n",
    "#         set_of_signatures = PI.generate_signatures() \n",
    "#     else: \n",
    "#         fn_name='store/'+adv_type+'.txt'\n",
    "#         set_of_signatures = PI.generate_signatures(adv_type=adv_type)\n",
    "    \n",
    "#     print(adv_type, len(set_of_signatures))\n",
    "#     with open(fn_name, \"wb\") as fp:   \n",
    "#         pickle.dump(set_of_signatures, fp)\n",
    "    \n",
    "prefix = 'store/'    \n",
    "# LOAD \n",
    "adv_types = ['None', 'FGSM', 'JSMA', 'CWL2', 'LINFPGD', 'LINFBI', 'ENL1', 'ST']\n",
    "set_of_train_dataset, set_of_test_dataset = [], []\n",
    "\n",
    "for adv_type in adv_types:\n",
    "    # extract from the store file \n",
    "    if adv_type == 'None': fn_name=prefix+'normal.txt'\n",
    "    else: fn_name=prefix+adv_type+'.txt'\n",
    "    fp = open(fn_name, 'rb')\n",
    "    set_of_signatures = pickle.load(fp)\n",
    "    \n",
    "    # separate and store in for later training and evaluation \n",
    "    if adv_type == 'None': split_percentage = 0.1\n",
    "    else: split_percentage = 0.1\n",
    "    split_line = int(len(set_of_signatures)*split_percentage)\n",
    "    train_set_of_signatures, test_set_of_signatures = set_of_signatures[:split_line], set_of_signatures[split_line:]\n",
    "    set_of_train_dataset.append(train_set_of_signatures)\n",
    "    set_of_test_dataset.append(test_set_of_signatures)\n",
    "    fp.close()\n",
    "    print(adv_type, len(set_of_signatures), len(train_set_of_signatures), len(test_set_of_signatures))\n",
    "    \n",
    "print()\n",
    "filtered_adv_types = ['None', 'LINFPGD']\n",
    "filtered_set_of_train_dataset = []\n",
    "for adv_type in filtered_adv_types:\n",
    "    # extract from the store file \n",
    "    if adv_type == 'None': fn_name=prefix+'normal.txt'\n",
    "    else: fn_name=prefix+adv_type+'.txt'\n",
    "    fp = open(fn_name, 'rb')\n",
    "    set_of_signatures = pickle.load(fp)\n",
    "    \n",
    "    # separate and store in for later training and evaluation \n",
    "    if adv_type == 'None': split_percentage = 0.8\n",
    "    else: split_percentage = 0.8\n",
    "    split_line = int(len(set_of_signatures)*split_percentage)\n",
    "    train_set_of_signatures, test_set_of_signatures = set_of_signatures[:split_line], set_of_signatures[split_line:]\n",
    "    filtered_set_of_train_dataset.append(train_set_of_signatures)\n",
    "    fp.close()\n",
    "    print(adv_type, len(set_of_signatures), len(train_set_of_signatures), len(test_set_of_signatures))\n",
    "\n"
   ]
  },
  {
   "cell_type": "code",
   "execution_count": null,
   "metadata": {
    "scrolled": false
   },
   "outputs": [],
   "source": [
    "import torch.nn as nn\n",
    "import torch.nn.functional as F\n",
    "import numpy as np\n",
    "import torch\n",
    "\n",
    "guard_model = Guard()\n",
    "guard_model.train()\n",
    "\n",
    "# set_of_train_dataset = filtered_set_of_train_dataset\n",
    "epoches = 1\n",
    "\n",
    "train_accs, test_accs, losses, set_train_sub_accs, set_test_sub_accs = train_guard_model(guard_model, set_of_train_dataset, set_of_test_dataset, adv_types, epoches)\n",
    "losses = [x.item() for x in losses]\n",
    "guard_model.eval()\n",
    "# guard_model = torch.load('store/guard.pt')"
   ]
  },
  {
   "cell_type": "code",
   "execution_count": null,
   "metadata": {},
   "outputs": [],
   "source": [
    "# import copy\n",
    "# from scipy.ndimage.filters import gaussian_filter1d\n",
    "\n",
    "# print('a')\n",
    "# smooth_train_accs = gaussian_filter1d(train_accs, sigma=1)\n",
    "# smooth_test_accs = gaussian_filter1d(test_accs, sigma=1)\n",
    "# smooth_losses = gaussian_filter1d(losses, sigma=1)\n",
    "# norm_smooth_losses = [float(i)/max(smooth_losses) for i in smooth_losses]\n",
    "# print('b')\n",
    "\n",
    "# fig = plt.figure()\n",
    "\n",
    "# print('c')\n",
    "# # summarize history for accuracy\n",
    "# plt.plot(smooth_train_accs)\n",
    "# plt.plot(smooth_test_accs)\n",
    "# plt.plot(norm_smooth_losses)\n",
    "# plt.title('model accuracy and loss')\n",
    "# plt.ylabel('accuracy')\n",
    "# plt.xlabel('epoch')\n",
    "# plt.legend(['train acc', 'test acc', 'loss'], loc='lower right')\n",
    "# plt.ylim([0, 1.05])\n",
    "\n",
    "# print('d')\n",
    "# # plt.savefig('outputs.jpg')\n",
    "# plt.show()"
   ]
  },
  {
   "cell_type": "code",
   "execution_count": null,
   "metadata": {},
   "outputs": [],
   "source": [
    "# test_guard_model(guard_model, set_of_test_dataset, adv_types)"
   ]
  },
  {
   "cell_type": "code",
   "execution_count": null,
   "metadata": {},
   "outputs": [],
   "source": [
    "figsize = (12, 4)\n",
    "fig=plt.figure(figsize=figsize)\n",
    "\n",
    "\n",
    "print('breakpoint a')\n",
    "num_of_epoches = len(set_train_sub_accs)\n",
    "num_of_adv_types = len(set_train_sub_accs[0])\n",
    "fig.add_subplot(1, 2, 1)\n",
    "for i in range(num_of_adv_types):\n",
    "    adv_type_accs = [sub_accs[i] for sub_accs in set_train_sub_accs]\n",
    "    smooth_adv_type_accs = gaussian_filter1d(adv_type_accs, sigma=1)\n",
    "    plt.plot(smooth_adv_type_accs)\n",
    "    \n",
    "print('breakpoint b')\n",
    "# plt.legend(filtered_adv_types, loc='lower right')\n",
    "plt.legend(adv_types, loc='lower right')\n",
    "plt.title('train')\n",
    "plt.ylim([0, 1.05])\n",
    "\n",
    "\n",
    "print('breakpoint c')\n",
    "num_of_epoches = len(set_test_sub_accs)\n",
    "num_of_adv_types = len(set_test_sub_accs[0])\n",
    "fig.add_subplot(1, 2, 2)\n",
    "for i in range(num_of_adv_types):\n",
    "    adv_type_accs = [sub_accs[i] for sub_accs in set_test_sub_accs]\n",
    "    smooth_adv_type_accs = gaussian_filter1d(adv_type_accs, sigma=1)\n",
    "    plt.plot(smooth_adv_type_accs)\n",
    "    \n",
    "plt.legend(adv_types, loc='lower right')\n",
    "plt.title('test')\n",
    "plt.ylim([0, 1.05])\n",
    "\n",
    "# plt.savefig('outputs.jpg')\n",
    "plt.show()"
   ]
  },
  {
   "cell_type": "code",
   "execution_count": null,
   "metadata": {},
   "outputs": [],
   "source": []
  }
 ],
 "metadata": {
  "kernelspec": {
   "display_name": "Python 3",
   "language": "python",
   "name": "python3"
  },
  "language_info": {
   "codemirror_mode": {
    "name": "ipython",
    "version": 3
   },
   "file_extension": ".py",
   "mimetype": "text/x-python",
   "name": "python",
   "nbconvert_exporter": "python",
   "pygments_lexer": "ipython3",
   "version": "3.7.6"
  }
 },
 "nbformat": 4,
 "nbformat_minor": 2
}
