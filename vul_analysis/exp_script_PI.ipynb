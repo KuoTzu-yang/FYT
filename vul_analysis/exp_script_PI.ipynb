{
 "cells": [
  {
   "cell_type": "code",
   "execution_count": 1,
   "metadata": {
    "scrolled": true
   },
   "outputs": [
    {
     "name": "stdout",
     "output_type": "stream",
     "text": [
      "num_of_LPs           : 4\n",
      "size_of_train_set    : 10000\n",
      "size_of_test_set     : 100\n",
      "flatten              : False\n",
      "model_type           : CNN\n",
      "adv_attack           : i_FGSM\n"
     ]
    }
   ],
   "source": [
    "import property_inference_interface\n",
    "interface = property_inference_interface.PropertyInferenceInterface()\n",
    "\n",
    "meta_params = {\n",
    "    'num_of_LPs': 4,\n",
    "    'size_of_train_set': 10000,\n",
    "    'size_of_test_set': 100,\n",
    "    'flatten': False, \n",
    "    'model_type': 'CNN',\n",
    "    'adv_attack': 'i_FGSM'\n",
    "}\n",
    "\n",
    "interface.set_meta_params(meta_params)\n",
    "interface.print_meta_params()"
   ]
  },
  {
   "cell_type": "code",
   "execution_count": 2,
   "metadata": {
    "scrolled": true
   },
   "outputs": [
    {
     "name": "stdout",
     "output_type": "stream",
     "text": [
      "Train dataset\n",
      "(10000, 1, 28, 28) (10000,)\n",
      "Test dataset\n",
      "(100, 1, 28, 28) (100,)\n"
     ]
    }
   ],
   "source": [
    "interface.prepare_dataset()\n",
    "interface.print_dataset_shape()"
   ]
  },
  {
   "cell_type": "code",
   "execution_count": 3,
   "metadata": {
    "scrolled": false
   },
   "outputs": [
    {
     "data": {
      "image/png": "[encoded data removed]",
      "text/plain": [
       "<Figure size 432x288 with 32 Axes>"
      ]
     },
     "metadata": {
      "needs_background": "light"
     },
     "output_type": "display_data"
    }
   ],
   "source": [
    "# Visualize the dataset\n",
    "%matplotlib inline\n",
    "interface.print_some_samples()"
   ]
  },
  {
   "cell_type": "code",
   "execution_count": 4,
   "metadata": {
    "scrolled": true
   },
   "outputs": [
    {
     "name": "stdout",
     "output_type": "stream",
     "text": [
      "Display the architecture: original\n",
      "CNN(\n",
      "  (conv1): Conv2d(1, 16, kernel_size=(5, 5), stride=(1, 1))\n",
      "  (conv2): Conv2d(16, 16, kernel_size=(5, 5), stride=(1, 1))\n",
      "  (conv3): Conv2d(16, 32, kernel_size=(5, 5), stride=(1, 1))\n",
      "  (fc1): Linear(in_features=288, out_features=64, bias=True)\n",
      "  (fc2): Linear(in_features=64, out_features=10, bias=True)\n",
      ")\n",
      "Display the architecture: robustified\n",
      "robustified_CNN(\n",
      "  (conv1): Conv2d(1, 16, kernel_size=(5, 5), stride=(1, 1))\n",
      "  (conv2): Conv2d(16, 16, kernel_size=(5, 5), stride=(1, 1))\n",
      "  (conv3): Conv2d(16, 32, kernel_size=(5, 5), stride=(1, 1))\n",
      "  (fc1): Linear(in_features=288, out_features=64, bias=True)\n",
      "  (fc2): Linear(in_features=64, out_features=10, bias=True)\n",
      ")\n"
     ]
    },
    {
     "name": "stderr",
     "output_type": "stream",
     "text": [
      "//anaconda3/lib/python3.7/site-packages/torch/serialization.py:453: SourceChangeWarning: source code of class 'torch.nn.modules.conv.Conv2d' has changed. you can retrieve the original source code by accessing the object's source attribute or set `torch.nn.Module.dump_patches = True` and use the patch tool to revert the changes.\n",
      "  warnings.warn(msg, SourceChangeWarning)\n",
      "//anaconda3/lib/python3.7/site-packages/torch/serialization.py:453: SourceChangeWarning: source code of class 'torch.nn.modules.linear.Linear' has changed. you can retrieve the original source code by accessing the object's source attribute or set `torch.nn.Module.dump_patches = True` and use the patch tool to revert the changes.\n",
      "  warnings.warn(msg, SourceChangeWarning)\n"
     ]
    }
   ],
   "source": [
    "# interface.generate_model(num_of_epochs=15)\n",
    "interface.load_model('MNIST_CNN.pt')\n",
    "# interface.store_model('MNIST_CNN.pt')\n",
    "\n",
    "interface.generate_robustified_model()\n",
    "print('Display the architecture: original')\n",
    "print(interface.model)\n",
    "print('Display the architecture: robustified')\n",
    "print(interface.robustified_model)"
   ]
  },
  {
   "cell_type": "code",
   "execution_count": 5,
   "metadata": {
    "scrolled": true
   },
   "outputs": [
    {
     "name": "stdout",
     "output_type": "stream",
     "text": [
      "Evaluate accurancy: original\n",
      "Model ( train ) accurancy: 0.9847\n",
      "Model ( test ) accurancy: 0.98\n",
      "Evaluate accurancy: robustified\n",
      "Model ( train ) accurancy: 0.9707\n",
      "Model ( test ) accurancy: 0.99\n"
     ]
    },
    {
     "data": {
      "text/plain": [
       "0.99"
      ]
     },
     "execution_count": 5,
     "metadata": {},
     "output_type": "execute_result"
    }
   ],
   "source": [
    "print('Evaluate accurancy: original')\n",
    "interface.eval_model('train', on_robustified_model=False)\n",
    "interface.eval_model('test', on_robustified_model=False)\n",
    "print('Evaluate accurancy: robustified')\n",
    "interface.eval_model('train', on_robustified_model=True)\n",
    "interface.eval_model('test', on_robustified_model=True)"
   ]
  },
  {
   "cell_type": "code",
   "execution_count": 6,
   "metadata": {
    "scrolled": false
   },
   "outputs": [
    {
     "name": "stdout",
     "output_type": "stream",
     "text": [
      "LPs shape of 1 th class: (4,)\n",
      "(1001, 9216)\n",
      "(1001, 1600)\n",
      "(1001, 288)\n",
      "(1001, 64)\n",
      "LPs shape of 2 th class: (4,)\n",
      "(1127, 9216)\n",
      "(1127, 1600)\n",
      "(1127, 288)\n",
      "(1127, 64)\n",
      "LPs shape of 3 th class: (4,)\n",
      "(991, 9216)\n",
      "(991, 1600)\n",
      "(991, 288)\n",
      "(991, 64)\n",
      "LPs shape of 4 th class: (4,)\n",
      "(1032, 9216)\n",
      "(1032, 1600)\n",
      "(1032, 288)\n",
      "(1032, 64)\n",
      "LPs shape of 5 th class: (4,)\n",
      "(980, 9216)\n",
      "(980, 1600)\n",
      "(980, 288)\n",
      "(980, 64)\n",
      "LPs shape of 6 th class: (4,)\n",
      "(863, 9216)\n",
      "(863, 1600)\n",
      "(863, 288)\n",
      "(863, 64)\n",
      "LPs shape of 7 th class: (4,)\n",
      "(1014, 9216)\n",
      "(1014, 1600)\n",
      "(1014, 288)\n",
      "(1014, 64)\n",
      "LPs shape of 8 th class: (4,)\n",
      "(1070, 9216)\n",
      "(1070, 1600)\n",
      "(1070, 288)\n",
      "(1070, 64)\n",
      "LPs shape of 9 th class: (4,)\n",
      "(944, 9216)\n",
      "(944, 1600)\n",
      "(944, 288)\n",
      "(944, 64)\n",
      "LPs shape of 10 th class: (4,)\n",
      "(978, 9216)\n",
      "(978, 1600)\n",
      "(978, 288)\n",
      "(978, 64)\n"
     ]
    }
   ],
   "source": [
    "interface.generate_LPs()\n",
    "interface.print_LPs()"
   ]
  },
  {
   "cell_type": "code",
   "execution_count": null,
   "metadata": {
    "scrolled": true
   },
   "outputs": [
    {
     "name": "stdout",
     "output_type": "stream",
     "text": [
      "First evaluation...\n"
     ]
    },
    {
     "name": "stderr",
     "output_type": "stream",
     "text": [
      "Using TensorFlow backend.\n"
     ]
    },
    {
     "name": "stdout",
     "output_type": "stream",
     "text": [
      "Second evaluation...\n"
     ]
    }
   ],
   "source": [
    "# alphas = [.5, .4, .3, .2, 1e-1, 1e-2, 1e-3, 1e-4, 8e-5, 5e-5, 2e-5, 1e-5, 5e-6, 1e-6, 5e-7, 1e-7, 7e-8, 5e-8, 2e-8, 1e-8, 5e-9, 1e-9, 1e-10, 1e-11, 1e-12, 1e-13, 1e-14, 1e-15, 1e-16]\n",
    "alphas = [1e-4]\n",
    "on_robustified_model = True\n",
    "\n",
    "for alpha in alphas:\n",
    "    print('First evaluation...')\n",
    "    (B_detect_ratio, A_detect_ratio), (B_LPs, A_LPs), (B_LPs_score, A_LPs_score) = interface.evaluate_algorithm_on_test_set(alpha, verbose=False, on_robustified_model=on_robustified_model)\n",
    "    print('Second evaluation...')\n",
    "    (B2_detect_ratio, _), (B2_LPs, _), (B2_LPs_score, _) = interface.evaluate_algorithm_on_test_set(alpha, verbose=False, dataset='train', on_robustified_model=on_robustified_model)\n",
    "    # exp_info = [B2_detect_ratio, B_detect_ratio, A_detect_ratio]\n",
    "    # print(alpha, exp_info)"
   ]
  },
  {
   "cell_type": "code",
   "execution_count": null,
   "metadata": {
    "scrolled": false
   },
   "outputs": [],
   "source": [
    "%matplotlib inline        \n",
    "import matplotlib.pyplot as plt\n",
    "import numpy as np\n",
    "\n",
    "B2LPs, BLPs, ALPs = np.array(B2_LPs), np.array(B_LPs), np.array(A_LPs) \n",
    "print(B2LPs.shape, BLPs.shape, ALPs.shape)\n",
    "\n",
    "BLPs[BLPs=='benign'] = 1\n",
    "BLPs[BLPs=='adversarial'] = 0\n",
    "BLPs = BLPs.astype(np.int)\n",
    "prob_BLPs = np.sum(BLPs, axis=0) / BLPs.shape[0]\n",
    "\n",
    "B2LPs[B2LPs=='benign'] = 1\n",
    "B2LPs[B2LPs=='adversarial'] = 0\n",
    "B2LPs = B2LPs.astype(np.int)\n",
    "prob_B2LPs = np.sum(B2LPs, axis=0) / B2LPs.shape[0]\n",
    "\n",
    "ALPs[ALPs=='benign'] = 1\n",
    "ALPs[ALPs=='adversarial'] = 0\n",
    "ALPs = ALPs.astype(np.int)\n",
    "prob_ALPs = np.sum(ALPs, axis=0) / ALPs.shape[0]\n",
    "\n",
    "print('This indicates the portion of inputs to be judged as \"benign\"')\n",
    "print(prob_B2LPs, 'train dataset (benign)')\n",
    "print(prob_BLPs, 'test dataset (benign)')\n",
    "print(prob_ALPs, 'test dataset (adversarial)')\n",
    "\n",
    "# create plot\n",
    "fig, ax = plt.subplots()\n",
    "num_of_layers = 4\n",
    "index = np.arange(num_of_layers)\n",
    "bar_width = 0.2\n",
    "opacity = 0.7\n",
    "\n",
    "rects1 = plt.bar(index, prob_B2LPs, bar_width, alpha=opacity, color='b', label='Train Ben')\n",
    "rects2 = plt.bar(index + bar_width, prob_BLPs, bar_width, alpha=opacity, color='g', label='Test Ben')\n",
    "rects2 = plt.bar(index + 2 * bar_width, prob_ALPs, bar_width, alpha=opacity, color='r', label='Test Adv')\n",
    "\n",
    "plt.xlabel('I-th layer')\n",
    "plt.ylabel('Benign ratio')\n",
    "plt.title('Benign ratio in different layers (95qr)')\n",
    "plt.xticks(index + bar_width, ('1', '2', '3', '4'))\n",
    "plt.legend()\n",
    "\n",
    "plt.tight_layout()\n",
    "plt.savefig('exp9_95.png')\n",
    "# plt.show()\n",
    "\n",
    "#-----------------------------------------------------------------------\n",
    "\n",
    "def print_qrs(A, B, C, qrs):\n",
    "    import numpy as np\n",
    "    for qr in qrs:\n",
    "        print(qr, 'qr:', np.percentile(A, qr), np.percentile(B, qr), np.percentile(C, qr))\n",
    "    \n",
    "B2LPs_score, BLPs_score, ALPs_score = np.array(B2_LPs_score), np.array(B_LPs_score), np.array(A_LPs_score) \n",
    "fig, _ = plt.subplots(nrows=1, ncols=4, figsize=(18, 3))\n",
    "for i in range(BLPs_score.shape[1]):\n",
    "    plt.subplot(1, 4, (i+1))\n",
    "    B2LP_score, BLP_score, ALP_score = B2LPs_score[:,i], BLPs_score[:,i], ALPs_score[:,i]\n",
    "    plt.plot(B2LP_score, np.arange(B2LP_score.shape[0]), 'o')\n",
    "    plt.plot(BLP_score, np.arange(BLP_score.shape[0]), 'go')\n",
    "    plt.plot(ALP_score, np.arange(ALP_score.shape[0]), 'ro')\n",
    "    plt.legend(['Benign_train', 'Benign_test', 'Adv_test'], loc=\"lower right\")\n",
    "    plt.title('LP'+str(i+1))\n",
    "    \n",
    "    ##############################################\n",
    "    # Compute 'mean' and '95q' in this block\n",
    "    ##############################################\n",
    "    print('LP'+str(i+1))\n",
    "    print('Mean:', np.mean(B2LP_score), np.mean(BLP_score), np.mean(ALP_score))\n",
    "#     print_qrs(B2LP_score, BLP_score, ALP_score, [5, 50, 90, 95, 96, 97, 98, 99])\n",
    "    print_qrs(B2LP_score, BLP_score, ALP_score, [5, 50, 95, 96, 97, 98, 99, 100])\n",
    "    ##############################################\n",
    "    \n",
    "# plt.savefig('exp9_01.png')\n",
    "plt.show()\n",
    "\n",
    "# 0. Correctly visualize B_train/B_test/A_test (DONE)\n",
    "# 1. Write a snippet to generate '95q' scores (DONE)\n",
    "# 2. Visualize the benign (or adversarial) ratio of samples by bar chart, comparing B train / B test / A test ()  \n",
    "# 3. Based on two, also visualize using y ()\n",
    "# 4. Record results of 1-3 ()"
   ]
  },
  {
   "cell_type": "code",
   "execution_count": null,
   "metadata": {
    "scrolled": false
   },
   "outputs": [],
   "source": [
    "def single_exp():\n",
    "    interface.generate_model(num_of_epochs=5)\n",
    "    interface.generate_LPs()\n",
    "    (benign_detect_ratio, adversarial_detect_ratio), (benign_LPs, adversarial_LPs) = interface.evaluate_algorithm_on_test_set(alpha, verbose=False)\n",
    "    exp_info = [benign_detect_ratio, adversarial_detect_ratio]\n",
    "    return exp_info    \n",
    "\n",
    "def exp(num_of_trails, file_name):\n",
    "    cumulative_exp_info = []\n",
    "    \n",
    "    import csv \n",
    "    for i in range(num_of_trails):\n",
    "        print('trail', (i+1))\n",
    "        single_exp_info = single_exp()\n",
    "        cumulative_exp_info.append(single_exp_info)\n",
    "\n",
    "        with open(file_name, mode='a', newline='') as file:\n",
    "            writer = csv.writer(file, delimiter=',', quotechar='\"', quoting=csv.QUOTE_MINIMAL)\n",
    "            writer.writerow(single_exp_info)\n",
    "        file.close()\n",
    "\n",
    "        print(single_exp_info)\n",
    "        \n",
    "    return cumulative_exp_info\n",
    "\n",
    "file_name = 'test.csv'\n",
    "# cumulative_exp_info = exp(40, file_name)"
   ]
  },
  {
   "cell_type": "code",
   "execution_count": null,
   "metadata": {
    "scrolled": true
   },
   "outputs": [],
   "source": [
    "print('all pass')"
   ]
  }
 ],
 "metadata": {
  "kernelspec": {
   "display_name": "Python 3",
   "language": "python",
   "name": "python3"
  },
  "language_info": {
   "codemirror_mode": {
    "name": "ipython",
    "version": 3
   },
   "file_extension": ".py",
   "mimetype": "text/x-python",
   "name": "python",
   "nbconvert_exporter": "python",
   "pygments_lexer": "ipython3",
   "version": "3.7.3"
  }
 },
 "nbformat": 4,
 "nbformat_minor": 2
}
