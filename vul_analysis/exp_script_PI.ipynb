{
 "cells": [
  {
   "cell_type": "markdown",
   "metadata": {},
   "source": [
    "### Our objective: robustify a given neural network \n",
    "0. Prepare for experiments (DONE)\n",
    "1. Display the pattern how benign samples and adversarial samples being evalauted by PI (e.g., B->B->B->B, B->B->B->A). (DONE)\n",
    "2. Identify the layer required further improvement (PENDING)\n",
    "3. A. Robustify model (PENDING)\n",
    "3. B. Store the robustified model (PENDING)\n",
    "4. Evalaute effectiveness (whether robustified model truly enhance the robustness in terms of attack success rate Or PI indentification rate) (PENDING)\n",
    "\n",
    "##### Sub tasks (compulsory functionalities to achieve above procedures \n",
    "1. Print out the distribution after robustifying (DONE)\n",
    "2. Complete robustified CNN (PENDING)"
   ]
  },
  {
   "cell_type": "code",
   "execution_count": 1,
   "metadata": {},
   "outputs": [
    {
     "name": "stdout",
     "output_type": "stream",
     "text": [
      "num_of_LPs           : 4\n",
      "size_of_train_set    : 2000\n",
      "size_of_test_set     : 100\n",
      "flatten              : True\n",
      "model_type           : FC\n",
      "adv_attack           : i_FGSM\n",
      "Train dataset\n",
      "(2000, 784) (2000,)\n",
      "Test dataset\n",
      "(100, 784) (100,)\n"
     ]
    }
   ],
   "source": [
    "'''\n",
    "0. Prepare for experiments \n",
    "'''\n",
    "%matplotlib inline\n",
    "import property_inference_interface\n",
    "PI = property_inference_interface.PropertyInferenceInterface()\n",
    "\n",
    "meta_params = {\n",
    "    'num_of_LPs': 4,\n",
    "    'size_of_train_set': 2000,\n",
    "    'size_of_test_set': 100,\n",
    "    'flatten': True, \n",
    "    'model_type': 'FC',\n",
    "    'adv_attack': 'i_FGSM'\n",
    "}\n",
    "\n",
    "PI.set_meta_params(meta_params)\n",
    "PI.print_meta_params()\n",
    "PI.prepare_dataset()\n",
    "PI.print_dataset_shape()"
   ]
  },
  {
   "cell_type": "code",
   "execution_count": 2,
   "metadata": {},
   "outputs": [
    {
     "name": "stdout",
     "output_type": "stream",
     "text": [
      "Evaluate accurancy: original\n",
      "Model ( train ) accurancy: 0.9805\n",
      "Model ( test ) accurancy: 0.99\n"
     ]
    },
    {
     "name": "stderr",
     "output_type": "stream",
     "text": [
      "//anaconda3/lib/python3.7/site-packages/torch/serialization.py:453: SourceChangeWarning: source code of class 'torch.nn.modules.linear.Linear' has changed. you can retrieve the original source code by accessing the object's source attribute or set `torch.nn.Module.dump_patches = True` and use the patch tool to revert the changes.\n",
      "  warnings.warn(msg, SourceChangeWarning)\n",
      "//anaconda3/lib/python3.7/site-packages/torch/serialization.py:453: SourceChangeWarning: source code of class 'torch.nn.modules.activation.ReLU' has changed. you can retrieve the original source code by accessing the object's source attribute or set `torch.nn.Module.dump_patches = True` and use the patch tool to revert the changes.\n",
      "  warnings.warn(msg, SourceChangeWarning)\n"
     ]
    },
    {
     "data": {
      "text/plain": [
       "0.99"
      ]
     },
     "execution_count": 2,
     "metadata": {},
     "output_type": "execute_result"
    }
   ],
   "source": [
    "'''\n",
    "0. Prepare for experiments \n",
    "'''\n",
    "# PI.generate_model(num_of_epochs=15)\n",
    "# PI.store_model('MNIST_CNN.pt')\n",
    "PI.load_model('MNIST_FC.pt')\n",
    "\n",
    "print('Evaluate accurancy: original')\n",
    "PI.eval_model('train', on_robustified_model=False)\n",
    "PI.eval_model('test', on_robustified_model=False)"
   ]
  },
  {
   "cell_type": "code",
   "execution_count": 3,
   "metadata": {},
   "outputs": [
    {
     "name": "stdout",
     "output_type": "stream",
     "text": [
      "Benign input matching...\n",
      "['benign', 'adversarial', 'benign', 'benign'] adversarial\n",
      "Benign input matching...\n",
      "['benign', 'benign', 'benign', 'benign'] benign\n",
      "Benign input matching...\n",
      "['benign', 'benign', 'benign', 'benign'] benign\n",
      "Benign input matching...\n",
      "['benign', 'benign', 'benign', 'benign'] benign\n",
      "Benign input matching...\n",
      "['benign', 'benign', 'benign', 'benign'] benign\n",
      "Benign input matching...\n",
      "['benign', 'benign', 'benign', 'benign'] benign\n",
      "Benign input matching...\n",
      "['benign', 'benign', 'benign', 'benign'] benign\n",
      "Benign input matching...\n",
      "['benign', 'benign', 'benign', 'benign'] benign\n",
      "Benign input matching...\n",
      "['adversarial', 'benign', 'benign', 'benign'] adversarial\n",
      "Benign input matching...\n",
      "['benign', 'benign', 'benign', 'benign'] benign\n",
      "Benign input matching...\n",
      "['benign', 'benign', 'benign', 'benign'] benign\n",
      "Benign input matching...\n",
      "['benign', 'benign', 'benign', 'benign'] benign\n",
      "Benign input matching...\n",
      "['benign', 'benign', 'benign', 'benign'] benign\n",
      "Benign input matching...\n",
      "['benign', 'benign', 'benign', 'benign'] benign\n",
      "Benign input matching...\n",
      "['benign', 'benign', 'benign', 'benign'] benign\n",
      "Benign input matching...\n",
      "['adversarial', 'benign', 'benign', 'benign'] adversarial\n",
      "Benign input matching...\n",
      "['benign', 'benign', 'benign', 'benign'] benign\n",
      "Benign input matching...\n",
      "['benign', 'adversarial', 'benign', 'benign'] adversarial\n",
      "Benign input matching...\n",
      "['benign', 'benign', 'benign', 'benign'] benign\n",
      "Benign input matching...\n",
      "['benign', 'benign', 'benign', 'benign'] benign\n",
      "Benign input matching...\n",
      "['benign', 'benign', 'benign', 'benign'] benign\n",
      "Benign input matching...\n",
      "['benign', 'benign', 'benign', 'benign'] benign\n",
      "Benign input matching...\n",
      "['benign', 'benign', 'benign', 'benign'] benign\n",
      "Benign input matching...\n",
      "['adversarial', 'benign', 'benign', 'benign'] adversarial\n",
      "Benign input matching...\n",
      "['benign', 'benign', 'benign', 'benign'] benign\n",
      "Benign input matching...\n",
      "['benign', 'benign', 'benign', 'benign'] benign\n",
      "Benign input matching...\n",
      "['benign', 'benign', 'benign', 'benign'] benign\n",
      "Benign input matching...\n",
      "['benign', 'benign', 'benign', 'benign'] benign\n",
      "Benign input matching...\n",
      "['benign', 'benign', 'benign', 'benign'] benign\n",
      "Benign input matching...\n",
      "['benign', 'adversarial', 'benign', 'benign'] adversarial\n",
      "Benign input matching...\n",
      "['benign', 'benign', 'benign', 'benign'] benign\n",
      "Benign input matching...\n",
      "['benign', 'adversarial', 'benign', 'benign'] adversarial\n",
      "Benign input matching...\n",
      "['benign', 'benign', 'benign', 'benign'] benign\n",
      "Benign input matching...\n",
      "['benign', 'benign', 'benign', 'benign'] benign\n",
      "Benign input matching...\n",
      "['benign', 'benign', 'benign', 'benign'] benign\n",
      "Benign input matching...\n",
      "['benign', 'benign', 'benign', 'benign'] benign\n",
      "Benign input matching...\n",
      "['benign', 'benign', 'benign', 'benign'] benign\n",
      "Benign input matching...\n",
      "['benign', 'benign', 'benign', 'benign'] benign\n",
      "Benign input matching...\n",
      "['benign', 'benign', 'benign', 'benign'] benign\n",
      "Benign input matching...\n",
      "['benign', 'benign', 'benign', 'benign'] benign\n",
      "Benign input matching...\n",
      "['benign', 'benign', 'benign', 'benign'] benign\n",
      "Benign input matching...\n",
      "['benign', 'benign', 'benign', 'benign'] benign\n",
      "Benign input matching...\n",
      "['benign', 'benign', 'benign', 'benign'] benign\n",
      "Benign input matching...\n",
      "['benign', 'benign', 'benign', 'benign'] benign\n",
      "Benign input matching...\n",
      "['benign', 'benign', 'benign', 'benign'] benign\n",
      "Benign input matching...\n",
      "['benign', 'benign', 'benign', 'benign'] benign\n",
      "Benign input matching...\n",
      "['benign', 'benign', 'adversarial', 'benign'] adversarial\n",
      "Benign input matching...\n",
      "['benign', 'adversarial', 'benign', 'benign'] adversarial\n",
      "Benign input matching...\n",
      "['benign', 'benign', 'benign', 'benign'] benign\n",
      "Benign input matching...\n",
      "['benign', 'benign', 'benign', 'benign'] benign\n",
      "Benign input matching...\n",
      "['benign', 'benign', 'benign', 'benign'] benign\n",
      "Benign input matching...\n",
      "['benign', 'benign', 'benign', 'benign'] benign\n",
      "Benign input matching...\n",
      "['benign', 'benign', 'benign', 'benign'] benign\n",
      "Benign input matching...\n",
      "['adversarial', 'benign', 'benign', 'benign'] adversarial\n",
      "Benign input matching...\n",
      "['benign', 'benign', 'benign', 'benign'] benign\n",
      "Benign input matching...\n",
      "['benign', 'benign', 'benign', 'benign'] benign\n",
      "Benign input matching...\n",
      "['benign', 'benign', 'benign', 'benign'] benign\n",
      "Benign input matching...\n",
      "['benign', 'benign', 'benign', 'benign'] benign\n",
      "Benign input matching...\n",
      "['benign', 'benign', 'benign', 'benign'] benign\n",
      "Benign input matching...\n",
      "['adversarial', 'benign', 'benign', 'benign'] adversarial\n",
      "Benign input matching...\n",
      "['benign', 'benign', 'benign', 'benign'] benign\n",
      "Benign input matching...\n",
      "['benign', 'benign', 'benign', 'benign'] benign\n",
      "Benign input matching...\n",
      "['benign', 'benign', 'benign', 'benign'] benign\n",
      "Benign input matching...\n",
      "['benign', 'benign', 'benign', 'benign'] benign\n",
      "Benign input matching...\n",
      "['benign', 'benign', 'benign', 'benign'] benign\n",
      "Benign input matching...\n",
      "['benign', 'benign', 'benign', 'benign'] benign\n",
      "Benign input matching...\n",
      "['benign', 'benign', 'benign', 'benign'] benign\n",
      "Benign input matching...\n",
      "['benign', 'benign', 'benign', 'benign'] benign\n",
      "Benign input matching...\n",
      "['benign', 'benign', 'benign', 'benign'] benign\n",
      "Benign input matching...\n",
      "['benign', 'benign', 'benign', 'benign'] benign\n",
      "Benign input matching...\n",
      "['benign', 'benign', 'benign', 'benign'] benign\n",
      "Benign input matching...\n",
      "['adversarial', 'adversarial', 'benign', 'benign'] adversarial\n",
      "Benign input matching...\n",
      "['benign', 'benign', 'benign', 'benign'] benign\n",
      "Benign input matching...\n",
      "['benign', 'benign', 'benign', 'benign'] benign\n",
      "Benign input matching...\n",
      "['benign', 'benign', 'benign', 'benign'] benign\n",
      "Benign input matching...\n",
      "['benign', 'benign', 'adversarial', 'benign'] adversarial\n",
      "Benign input matching...\n",
      "['adversarial', 'benign', 'benign', 'benign'] adversarial\n",
      "Benign input matching...\n",
      "['benign', 'benign', 'benign', 'benign'] benign\n",
      "Benign input matching...\n",
      "['benign', 'benign', 'benign', 'benign'] benign\n",
      "Benign input matching...\n",
      "['benign', 'benign', 'benign', 'benign'] benign\n",
      "Benign input matching...\n",
      "['benign', 'benign', 'adversarial', 'benign'] adversarial\n",
      "Benign input matching...\n",
      "['benign', 'benign', 'benign', 'adversarial'] benign\n",
      "Benign input matching...\n",
      "['benign', 'benign', 'benign', 'benign'] benign\n",
      "Benign input matching...\n",
      "['benign', 'benign', 'benign', 'benign'] benign\n",
      "Benign input matching...\n",
      "['benign', 'benign', 'benign', 'benign'] benign\n",
      "Benign input matching...\n",
      "['benign', 'benign', 'benign', 'benign'] benign\n",
      "Benign input matching...\n",
      "['benign', 'benign', 'benign', 'benign'] benign\n",
      "Benign input matching...\n",
      "['benign', 'benign', 'benign', 'benign'] benign\n",
      "Benign input matching...\n",
      "['benign', 'benign', 'benign', 'benign'] benign\n",
      "Benign input matching...\n",
      "['benign', 'benign', 'benign', 'benign'] benign\n",
      "Benign input matching...\n",
      "['benign', 'benign', 'benign', 'benign'] benign\n",
      "Benign input matching...\n",
      "['benign', 'benign', 'benign', 'benign'] benign\n",
      "Benign input matching...\n",
      "['benign', 'benign', 'benign', 'benign'] benign\n",
      "Benign input matching...\n",
      "['benign', 'adversarial', 'benign', 'benign'] adversarial\n",
      "Benign input matching...\n",
      "['benign', 'benign', 'benign', 'benign'] benign\n",
      "Benign input matching...\n",
      "['adversarial', 'benign', 'benign', 'adversarial'] adversarial\n",
      "Benign input matching...\n",
      "['benign', 'benign', 'benign', 'benign'] benign\n",
      "Benign input matching...\n",
      "['benign', 'benign', 'benign', 'benign'] benign\n",
      "Benign input matching...\n",
      "['benign', 'benign', 'benign', 'benign'] benign\n",
      "Evaluate on benign samples with test set\n",
      "82 99 0.8282828282828283\n"
     ]
    },
    {
     "name": "stderr",
     "output_type": "stream",
     "text": [
      "Using TensorFlow backend.\n"
     ]
    },
    {
     "name": "stdout",
     "output_type": "stream",
     "text": [
      "Adversarial input matching...\n",
      "['adversarial', 'adversarial', 'benign', 'benign'] adversarial\n",
      "Adversarial input matching...\n",
      "['adversarial', 'adversarial', 'benign', 'benign'] adversarial\n",
      "Adversarial input matching...\n",
      "['adversarial', 'adversarial', 'benign', 'benign'] adversarial\n",
      "Adversarial input matching...\n",
      "['adversarial', 'adversarial', 'benign', 'benign'] adversarial\n",
      "Adversarial input matching...\n",
      "['adversarial', 'adversarial', 'benign', 'benign'] adversarial\n",
      "Adversarial input matching...\n",
      "['adversarial', 'adversarial', 'benign', 'benign'] adversarial\n",
      "Adversarial input matching...\n",
      "['adversarial', 'adversarial', 'benign', 'benign'] adversarial\n",
      "Adversarial input matching...\n",
      "['adversarial', 'adversarial', 'benign', 'benign'] adversarial\n",
      "Adversarial input matching...\n",
      "['adversarial', 'adversarial', 'benign', 'benign'] adversarial\n",
      "Adversarial input matching...\n",
      "['adversarial', 'adversarial', 'adversarial', 'benign'] adversarial\n",
      "Adversarial input matching...\n",
      "['adversarial', 'adversarial', 'adversarial', 'benign'] adversarial\n",
      "Adversarial input matching...\n",
      "['adversarial', 'adversarial', 'benign', 'benign'] adversarial\n",
      "Adversarial input matching...\n",
      "['adversarial', 'adversarial', 'benign', 'benign'] adversarial\n",
      "Adversarial input matching...\n",
      "['adversarial', 'adversarial', 'benign', 'benign'] adversarial\n",
      "Adversarial input matching...\n",
      "['adversarial', 'adversarial', 'benign', 'benign'] adversarial\n",
      "Adversarial input matching...\n",
      "['adversarial', 'adversarial', 'benign', 'benign'] adversarial\n",
      "Adversarial input matching...\n",
      "['adversarial', 'adversarial', 'benign', 'benign'] adversarial\n",
      "Adversarial input matching...\n",
      "['adversarial', 'adversarial', 'benign', 'benign'] adversarial\n",
      "Adversarial input matching...\n",
      "['adversarial', 'adversarial', 'benign', 'benign'] adversarial\n",
      "Adversarial input matching...\n",
      "['adversarial', 'adversarial', 'benign', 'benign'] adversarial\n",
      "Adversarial input matching...\n",
      "['adversarial', 'adversarial', 'benign', 'benign'] adversarial\n",
      "Adversarial input matching...\n",
      "['adversarial', 'adversarial', 'benign', 'benign'] adversarial\n",
      "Adversarial input matching...\n",
      "['adversarial', 'adversarial', 'benign', 'benign'] adversarial\n",
      "Adversarial input matching...\n",
      "['adversarial', 'adversarial', 'benign', 'benign'] adversarial\n",
      "Adversarial input matching...\n",
      "['adversarial', 'adversarial', 'benign', 'benign'] adversarial\n",
      "Adversarial input matching...\n",
      "['adversarial', 'adversarial', 'benign', 'benign'] adversarial\n",
      "Adversarial input matching...\n",
      "['benign', 'benign', 'benign', 'benign'] benign\n",
      "Adversarial input matching...\n",
      "['adversarial', 'adversarial', 'adversarial', 'benign'] adversarial\n",
      "Adversarial input matching...\n",
      "['adversarial', 'adversarial', 'benign', 'benign'] adversarial\n",
      "Adversarial input matching...\n",
      "['adversarial', 'adversarial', 'benign', 'benign'] adversarial\n",
      "Adversarial input matching...\n",
      "['adversarial', 'adversarial', 'benign', 'benign'] adversarial\n",
      "Adversarial input matching...\n",
      "['adversarial', 'adversarial', 'benign', 'benign'] adversarial\n",
      "Adversarial input matching...\n",
      "['adversarial', 'adversarial', 'benign', 'benign'] adversarial\n",
      "Adversarial input matching...\n",
      "['benign', 'adversarial', 'benign', 'benign'] adversarial\n",
      "Adversarial input matching...\n",
      "['adversarial', 'adversarial', 'benign', 'benign'] adversarial\n",
      "Adversarial input matching...\n",
      "['adversarial', 'adversarial', 'benign', 'benign'] adversarial\n",
      "Adversarial input matching...\n",
      "['adversarial', 'adversarial', 'benign', 'benign'] adversarial\n",
      "Adversarial input matching...\n",
      "['adversarial', 'adversarial', 'benign', 'benign'] adversarial\n",
      "Adversarial input matching...\n",
      "['adversarial', 'adversarial', 'benign', 'benign'] adversarial\n",
      "Adversarial input matching...\n",
      "['adversarial', 'adversarial', 'benign', 'benign'] adversarial\n",
      "Adversarial input matching...\n",
      "['adversarial', 'adversarial', 'benign', 'benign'] adversarial\n",
      "Adversarial input matching...\n",
      "['adversarial', 'adversarial', 'benign', 'adversarial'] adversarial\n",
      "Adversarial input matching...\n",
      "['adversarial', 'benign', 'benign', 'benign'] adversarial\n",
      "Adversarial input matching...\n",
      "['adversarial', 'adversarial', 'benign', 'benign'] adversarial\n",
      "Adversarial input matching...\n",
      "['adversarial', 'adversarial', 'benign', 'benign'] adversarial\n",
      "Adversarial input matching...\n",
      "['benign', 'benign', 'benign', 'benign'] benign\n",
      "Adversarial input matching...\n",
      "['adversarial', 'adversarial', 'adversarial', 'adversarial'] adversarial\n",
      "Adversarial input matching...\n",
      "['adversarial', 'adversarial', 'benign', 'benign'] adversarial\n",
      "Adversarial input matching...\n",
      "['benign', 'adversarial', 'adversarial', 'benign'] adversarial\n",
      "Evaluate on adversarial samples with test set\n",
      "47 49 0.9591836734693877\n",
      "0.8282828282828283 0.9591836734693877\n"
     ]
    }
   ],
   "source": [
    "'''\n",
    "0. Prepare for experiments \n",
    "'''\n",
    "PI.generate_LPs()\n",
    "(B_detect_ratio, A_detect_ratio), (B_LPs, A_LPs), (B_LPs_score, A_LPs_score) = PI.evaluate_algorithm_on_test_set(verbose=True)\n",
    "print(B_detect_ratio, A_detect_ratio)\n",
    "\n",
    "# B: Benign (normal) samples within test dataset \n",
    "# B2: Benign (normal) samples within train dataset \n",
    "# A: Adversarial samples based on benign samples within test dataset "
   ]
  },
  {
   "cell_type": "code",
   "execution_count": 4,
   "metadata": {},
   "outputs": [
    {
     "name": "stdout",
     "output_type": "stream",
     "text": [
      "(99, 4) (49, 4)\n",
      "This indicates the portion of inputs to be judged as \"benign\"\n",
      "[0.91919192 0.92929293 0.96969697 0.97979798] test dataset (benign)\n",
      "[0.08163265 0.06122449 0.89795918 0.95918367] test dataset (adversarial)\n"
     ]
    },
    {
     "data": {
      "image/png": "[encoded data removed]",
      "text/plain": [
       "<Figure size 432x288 with 1 Axes>"
      ]
     },
     "metadata": {
      "needs_background": "light"
     },
     "output_type": "display_data"
    },
    {
     "data": {
      "image/png": "[encoded data removed]",
      "text/plain": [
       "<Figure size 432x288 with 1 Axes>"
      ]
     },
     "metadata": {
      "needs_background": "light"
     },
     "output_type": "display_data"
    },
    {
     "data": {
      "image/png": "[encoded data removed]",
      "text/plain": [
       "<Figure size 432x288 with 1 Axes>"
      ]
     },
     "metadata": {
      "needs_background": "light"
     },
     "output_type": "display_data"
    },
    {
     "data": {
      "image/png": "[encoded data removed]",
      "text/plain": [
       "<Figure size 432x288 with 1 Axes>"
      ]
     },
     "metadata": {
      "needs_background": "light"
     },
     "output_type": "display_data"
    },
    {
     "data": {
      "image/png": "[encoded data removed]",
      "text/plain": [
       "<Figure size 432x288 with 1 Axes>"
      ]
     },
     "metadata": {
      "needs_background": "light"
     },
     "output_type": "display_data"
    }
   ],
   "source": [
    "'''\n",
    "1. Display the pattern how benign samples and adversarial samples being evalauted by PI (e.g., B->B->B->B, B->B->B->A).\n",
    "'''\n",
    "import matplotlib.pyplot as plt\n",
    "import numpy as np\n",
    "\n",
    "qr = '95'\n",
    "BLPs, ALPs = np.array(B_LPs), np.array(A_LPs) \n",
    "print(BLPs.shape, ALPs.shape)\n",
    "\n",
    "BLPs[BLPs=='benign'] = 1\n",
    "BLPs[BLPs=='adversarial'] = 0\n",
    "BLPs = BLPs.astype(np.int)\n",
    "prob_BLPs = np.sum(BLPs, axis=0) / BLPs.shape[0]\n",
    "\n",
    "ALPs[ALPs=='benign'] = 1\n",
    "ALPs[ALPs=='adversarial'] = 0\n",
    "ALPs = ALPs.astype(np.int)\n",
    "prob_ALPs = np.sum(ALPs, axis=0) / ALPs.shape[0]\n",
    "\n",
    "print('This indicates the portion of inputs to be judged as \"benign\"')\n",
    "print(prob_BLPs, 'test dataset (benign)')\n",
    "print(prob_ALPs, 'test dataset (adversarial)')\n",
    "\n",
    "# create plot\n",
    "fig, ax = plt.subplots()\n",
    "num_of_layers = 4\n",
    "index = np.arange(num_of_layers)\n",
    "bar_width, opacity = 0.2, 0.7\n",
    "\n",
    "rects1 = plt.bar(index, prob_BLPs, bar_width, alpha=opacity, color='g', label='Test Ben')\n",
    "rects2 = plt.bar(index + bar_width, prob_ALPs, bar_width, alpha=opacity, color='r', label='Test Ben')\n",
    "\n",
    "plt.xlabel('I-th layer')\n",
    "plt.ylabel('Benign ratio')\n",
    "plt.title('Benign ratio in different layers ('+qr+'qr)')\n",
    "plt.xticks(index + bar_width, ('1', '2', '3', '4'))\n",
    "plt.legend()\n",
    "\n",
    "plt.tight_layout()\n",
    "plt.show()\n",
    "\n",
    "B_LPs_score, A_LPs_score = np.array(B_LPs_score), np.array(A_LPs_score)\n",
    "for i in range(B_LPs_score.shape[1]):\n",
    "    B_score, A_score = B_LPs_score[:,i], A_LPs_score[:, i]\n",
    "    B_indices, A_indices = np.arange(B_score.shape[0]), np.arange(A_score.shape[0])\n",
    "    plt.plot(B_score, B_indices, 'go')\n",
    "    plt.plot(A_score, A_indices, 'ro')\n",
    "    plt.show()"
   ]
  },
  {
   "cell_type": "code",
   "execution_count": 5,
   "metadata": {},
   "outputs": [
    {
     "data": {
      "text/plain": [
       "'\\n2. Identify the layer required further improvement (PENDING)\\n'"
      ]
     },
     "execution_count": 5,
     "metadata": {},
     "output_type": "execute_result"
    }
   ],
   "source": [
    "'''\n",
    "2. Identify the layer required further improvement (PENDING)\n",
    "'''\n",
    "# func (for automatically locate which layer should be further improved)"
   ]
  },
  {
   "cell_type": "code",
   "execution_count": 6,
   "metadata": {},
   "outputs": [
    {
     "name": "stdout",
     "output_type": "stream",
     "text": [
      "0\n",
      "1\n",
      "2\n",
      "3\n",
      "4\n",
      "5\n",
      "6\n",
      "7\n",
      "8\n",
      "9\n",
      "10\n",
      "11\n",
      "12\n",
      "13\n",
      "14\n",
      "15\n",
      "16\n",
      "17\n",
      "18\n",
      "19\n",
      "20\n",
      "21\n",
      "22\n",
      "23\n",
      "24\n",
      "25\n",
      "26\n",
      "27\n",
      "28\n",
      "29\n",
      "Evaluate accurancy: original\n",
      "Model ( train ) accurancy: 0.9805\n",
      "Model ( test ) accurancy: 0.99\n",
      "Evaluate accurancy: robustified\n",
      "Model ( train ) accurancy: 0.97\n",
      "Model ( test ) accurancy: 0.94\n"
     ]
    },
    {
     "data": {
      "text/plain": [
       "0.94"
      ]
     },
     "execution_count": 6,
     "metadata": {},
     "output_type": "execute_result"
    }
   ],
   "source": [
    "'''\n",
    "3. Robustify model \n",
    "let's say it's the 3rd layer \n",
    "'''\n",
    "\n",
    "PI.generate_robustified_model('FC', 30)\n",
    "\n",
    "print('Evaluate accurancy: original')\n",
    "PI.eval_model('train', on_robustified_model=False)\n",
    "PI.eval_model('test', on_robustified_model=False)\n",
    "print('Evaluate accurancy: robustified')\n",
    "PI.eval_model('train', on_robustified_model=True)\n",
    "PI.eval_model('test', on_robustified_model=True)"
   ]
  },
  {
   "cell_type": "code",
   "execution_count": 7,
   "metadata": {},
   "outputs": [
    {
     "name": "stdout",
     "output_type": "stream",
     "text": [
      "0.8478260869565217 0.5957446808510638\n",
      "(92, 4) (94, 4)\n",
      "This indicates the portion of inputs to be judged as \"benign\"\n",
      "[0.91304348 0.94565217 0.92391304 0.90217391] test dataset (benign)\n",
      "[0.79787234 0.57446809 0.61702128 0.71276596] test dataset (adversarial)\n"
     ]
    },
    {
     "data": {
      "image/png": "[encoded data removed]",
      "text/plain": [
       "<Figure size 432x288 with 1 Axes>"
      ]
     },
     "metadata": {
      "needs_background": "light"
     },
     "output_type": "display_data"
    },
    {
     "data": {
      "image/png": "[encoded data removed]",
      "text/plain": [
       "<Figure size 432x288 with 1 Axes>"
      ]
     },
     "metadata": {
      "needs_background": "light"
     },
     "output_type": "display_data"
    },
    {
     "data": {
      "image/png": "[encoded data removed]",
      "text/plain": [
       "<Figure size 432x288 with 1 Axes>"
      ]
     },
     "metadata": {
      "needs_background": "light"
     },
     "output_type": "display_data"
    },
    {
     "data": {
      "image/png": "[encoded data removed]",
      "text/plain": [
       "<Figure size 432x288 with 1 Axes>"
      ]
     },
     "metadata": {
      "needs_background": "light"
     },
     "output_type": "display_data"
    },
    {
     "data": {
      "image/png": "[encoded data removed]",
      "text/plain": [
       "<Figure size 432x288 with 1 Axes>"
      ]
     },
     "metadata": {
      "needs_background": "light"
     },
     "output_type": "display_data"
    }
   ],
   "source": [
    "import copy\n",
    "PI.model = copy.deepcopy(PI.robustified_model)\n",
    "\n",
    "PI.generate_LPs()\n",
    "(B_detect_ratio, A_detect_ratio), (B_LPs, A_LPs), (B_LPs_score, A_LPs_score) = PI.evaluate_algorithm_on_test_set(verbose=False)\n",
    "print(B_detect_ratio, A_detect_ratio)\n",
    "\n",
    "import matplotlib.pyplot as plt\n",
    "import numpy as np\n",
    "\n",
    "qr = '95'\n",
    "BLPs, ALPs = np.array(B_LPs), np.array(A_LPs) \n",
    "print(BLPs.shape, ALPs.shape)\n",
    "\n",
    "BLPs[BLPs=='benign'] = 1\n",
    "BLPs[BLPs=='adversarial'] = 0\n",
    "BLPs = BLPs.astype(np.int)\n",
    "prob_BLPs = np.sum(BLPs, axis=0) / BLPs.shape[0]\n",
    "\n",
    "ALPs[ALPs=='benign'] = 1\n",
    "ALPs[ALPs=='adversarial'] = 0\n",
    "ALPs = ALPs.astype(np.int)\n",
    "prob_ALPs = np.sum(ALPs, axis=0) / ALPs.shape[0]\n",
    "\n",
    "print('This indicates the portion of inputs to be judged as \"benign\"')\n",
    "print(prob_BLPs, 'test dataset (benign)')\n",
    "print(prob_ALPs, 'test dataset (adversarial)')\n",
    "\n",
    "# create plot\n",
    "fig, ax = plt.subplots()\n",
    "num_of_layers = 4\n",
    "index = np.arange(num_of_layers)\n",
    "bar_width, opacity = 0.2, 0.7\n",
    "\n",
    "rects1 = plt.bar(index, prob_BLPs, bar_width, alpha=opacity, color='g', label='Test Ben')\n",
    "rects2 = plt.bar(index + bar_width, prob_ALPs, bar_width, alpha=opacity, color='r', label='Test Ben')\n",
    "\n",
    "plt.xlabel('I-th layer')\n",
    "plt.ylabel('Benign ratio')\n",
    "plt.title('Benign ratio in different layers ('+qr+'qr)')\n",
    "plt.xticks(index + bar_width, ('1', '2', '3', '4'))\n",
    "plt.legend()\n",
    "\n",
    "plt.tight_layout()\n",
    "plt.show()\n",
    "\n",
    "B_LPs_score, A_LPs_score = np.array(B_LPs_score), np.array(A_LPs_score)\n",
    "for i in range(B_LPs_score.shape[1]):\n",
    "    B_score, A_score = B_LPs_score[:,i], A_LPs_score[:, i]\n",
    "    B_indices, A_indices = np.arange(B_score.shape[0]), np.arange(A_score.shape[0])\n",
    "    plt.plot(B_score, B_indices, 'go')\n",
    "    plt.plot(A_score, A_indices, 'ro')\n",
    "    plt.show()"
   ]
  },
  {
   "cell_type": "code",
   "execution_count": null,
   "metadata": {},
   "outputs": [],
   "source": []
  }
 ],
 "metadata": {
  "kernelspec": {
   "display_name": "Python 3",
   "language": "python",
   "name": "python3"
  },
  "language_info": {
   "codemirror_mode": {
    "name": "ipython",
    "version": 3
   },
   "file_extension": ".py",
   "mimetype": "text/x-python",
   "name": "python",
   "nbconvert_exporter": "python",
   "pygments_lexer": "ipython3",
   "version": "3.7.3"
  }
 },
 "nbformat": 4,
 "nbformat_minor": 2
}
