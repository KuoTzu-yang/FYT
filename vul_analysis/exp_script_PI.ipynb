{
 "cells": [
  {
   "cell_type": "markdown",
   "metadata": {},
   "source": [
    "### Our objective: robustify a given neural network \n",
    "0. Prepare for experiments (DONE)\n",
    "1. Display the pattern how benign samples and adversarial samples being evalauted by PI (e.g., B->B->B->B, B->B->B->A). (DONE)\n",
    "2. Identify the layer required further improvement ()\n",
    "3. Robustify model ()\n",
    "4. Evalaute effectiveness (whether robustified model truly enhance the robustness in terms of attack success rate Or PI indentification rate) ()"
   ]
  },
  {
   "cell_type": "code",
   "execution_count": 1,
   "metadata": {},
   "outputs": [
    {
     "name": "stdout",
     "output_type": "stream",
     "text": [
      "num_of_LPs           : 4\n",
      "size_of_train_set    : 1000\n",
      "size_of_test_set     : 100\n",
      "flatten              : True\n",
      "model_type           : FC\n",
      "adv_attack           : i_FGSM\n",
      "Train dataset\n",
      "(1000, 784) (1000,)\n",
      "Test dataset\n",
      "(100, 784) (100,)\n"
     ]
    }
   ],
   "source": [
    "'''\n",
    "0. Prepare for experiments \n",
    "'''\n",
    "%matplotlib inline\n",
    "import property_inference_interface\n",
    "PI = property_inference_interface.PropertyInferenceInterface()\n",
    "\n",
    "meta_params = {\n",
    "    'num_of_LPs': 4,\n",
    "    'size_of_train_set': 1000,\n",
    "    'size_of_test_set': 100,\n",
    "    'flatten': True, \n",
    "    'model_type': 'FC',\n",
    "    'adv_attack': 'i_FGSM'\n",
    "}\n",
    "\n",
    "PI.set_meta_params(meta_params)\n",
    "PI.print_meta_params()\n",
    "PI.prepare_dataset()\n",
    "PI.print_dataset_shape()"
   ]
  },
  {
   "cell_type": "code",
   "execution_count": 2,
   "metadata": {},
   "outputs": [
    {
     "name": "stdout",
     "output_type": "stream",
     "text": [
      "Evaluate accurancy: original\n",
      "Model ( train ) accurancy: 0.984\n",
      "Model ( test ) accurancy: 0.99\n"
     ]
    },
    {
     "name": "stderr",
     "output_type": "stream",
     "text": [
      "//anaconda3/lib/python3.7/site-packages/torch/serialization.py:453: SourceChangeWarning: source code of class 'torch.nn.modules.linear.Linear' has changed. you can retrieve the original source code by accessing the object's source attribute or set `torch.nn.Module.dump_patches = True` and use the patch tool to revert the changes.\n",
      "  warnings.warn(msg, SourceChangeWarning)\n",
      "//anaconda3/lib/python3.7/site-packages/torch/serialization.py:453: SourceChangeWarning: source code of class 'torch.nn.modules.activation.ReLU' has changed. you can retrieve the original source code by accessing the object's source attribute or set `torch.nn.Module.dump_patches = True` and use the patch tool to revert the changes.\n",
      "  warnings.warn(msg, SourceChangeWarning)\n"
     ]
    },
    {
     "data": {
      "text/plain": [
       "0.99"
      ]
     },
     "execution_count": 2,
     "metadata": {},
     "output_type": "execute_result"
    }
   ],
   "source": [
    "'''\n",
    "0. Prepare for experiments \n",
    "'''\n",
    "# PI.generate_model(num_of_epochs=15)\n",
    "# PI.store_model('MNIST_CNN.pt')\n",
    "PI.load_model('MNIST_FC.pt')\n",
    "\n",
    "print('Evaluate accurancy: original')\n",
    "PI.eval_model('train', on_robustified_model=False)\n",
    "PI.eval_model('test', on_robustified_model=False)"
   ]
  },
  {
   "cell_type": "code",
   "execution_count": 3,
   "metadata": {},
   "outputs": [
    {
     "name": "stderr",
     "output_type": "stream",
     "text": [
      "Using TensorFlow backend.\n"
     ]
    }
   ],
   "source": [
    "'''\n",
    "0. Prepare for experiments \n",
    "'''\n",
    "PI.generate_LPs()\n",
    "(B_detect_ratio, A_detect_ratio), (B_LPs, A_LPs), (B_LPs_score, A_LPs_score) = PI.evaluate_algorithm_on_test_set(verbose=False)\n",
    "\n",
    "# B: Benign (normal) samples within test dataset \n",
    "# B2: Benign (normal) samples within train dataset \n",
    "# A: Adversarial samples based on benign samples within test dataset "
   ]
  },
  {
   "cell_type": "code",
   "execution_count": 4,
   "metadata": {},
   "outputs": [
    {
     "name": "stdout",
     "output_type": "stream",
     "text": [
      "(99, 4) (49, 4)\n",
      "This indicates the portion of inputs to be judged as \"benign\"\n",
      "[0.8989899  0.90909091 0.95959596 0.96969697] test dataset (benign)\n",
      "[0.10204082 0.06122449 0.79591837 0.95918367] test dataset (adversarial)\n"
     ]
    },
    {
     "data": {
      "image/png": "[encoded data removed]",
      "text/plain": [
       "<Figure size 432x288 with 1 Axes>"
      ]
     },
     "metadata": {
      "needs_background": "light"
     },
     "output_type": "display_data"
    }
   ],
   "source": [
    "'''\n",
    "1. Display the pattern how benign samples and adversarial samples being evalauted by PI (e.g., B->B->B->B, B->B->B->A).\n",
    "'''\n",
    "import matplotlib.pyplot as plt\n",
    "import numpy as np\n",
    "\n",
    "qr = '95'\n",
    "BLPs, ALPs = np.array(B_LPs), np.array(A_LPs) \n",
    "print(BLPs.shape, ALPs.shape)\n",
    "\n",
    "BLPs[BLPs=='benign'] = 1\n",
    "BLPs[BLPs=='adversarial'] = 0\n",
    "BLPs = BLPs.astype(np.int)\n",
    "prob_BLPs = np.sum(BLPs, axis=0) / BLPs.shape[0]\n",
    "\n",
    "ALPs[ALPs=='benign'] = 1\n",
    "ALPs[ALPs=='adversarial'] = 0\n",
    "ALPs = ALPs.astype(np.int)\n",
    "prob_ALPs = np.sum(ALPs, axis=0) / ALPs.shape[0]\n",
    "\n",
    "print('This indicates the portion of inputs to be judged as \"benign\"')\n",
    "print(prob_BLPs, 'test dataset (benign)')\n",
    "print(prob_ALPs, 'test dataset (adversarial)')\n",
    "\n",
    "# create plot\n",
    "fig, ax = plt.subplots()\n",
    "num_of_layers = 4\n",
    "index = np.arange(num_of_layers)\n",
    "bar_width, opacity = 0.2, 0.7\n",
    "\n",
    "rects1 = plt.bar(index, prob_BLPs, bar_width, alpha=opacity, color='g', label='Test Ben')\n",
    "rects2 = plt.bar(index + bar_width, prob_ALPs, bar_width, alpha=opacity, color='r', label='Test Ben')\n",
    "\n",
    "plt.xlabel('I-th layer')\n",
    "plt.ylabel('Benign ratio')\n",
    "plt.title('Benign ratio in different layers ('+qr+'qr)')\n",
    "plt.xticks(index + bar_width, ('1', '2', '3', '4'))\n",
    "plt.legend()\n",
    "\n",
    "plt.tight_layout()\n",
    "plt.show()"
   ]
  },
  {
   "cell_type": "code",
   "execution_count": 5,
   "metadata": {},
   "outputs": [
    {
     "data": {
      "text/plain": [
       "'\\n2. Identify the layer required further improvement (PENDING)\\n'"
      ]
     },
     "execution_count": 5,
     "metadata": {},
     "output_type": "execute_result"
    }
   ],
   "source": [
    "'''\n",
    "2. Identify the layer required further improvement (PENDING)\n",
    "'''\n",
    "# func (for automatically locate which layer should be further improved)"
   ]
  },
  {
   "cell_type": "code",
   "execution_count": 6,
   "metadata": {},
   "outputs": [
    {
     "data": {
      "text/plain": [
       "'\\n3. Robustify model \\n'"
      ]
     },
     "execution_count": 6,
     "metadata": {},
     "output_type": "execute_result"
    }
   ],
   "source": [
    "'''\n",
    "3. Robustify model \n",
    "let's say it's the 3\n",
    "'''\n",
    "# # interface.generate_model(num_of_epochs=15)\n",
    "# interface.load_model('MNIST_CNN.pt')\n",
    "# # interface.store_model('MNIST_CNN.pt')\n",
    "\n",
    "# interface.generate_robustified_model()\n",
    "# print('Display the architecture: original')\n",
    "# print(interface.model)\n",
    "# print('Display the architecture: robustified')\n",
    "# print(interface.robustified_model)\n",
    "# print('Evaluate accurancy: original')\n",
    "\n",
    "# interface.eval_model('train', on_robustified_model=False)\n",
    "# interface.eval_model('test', on_robustified_model=False)\n",
    "# print('Evaluate accurancy: robustified')\n",
    "# interface.eval_model('train', on_robustified_model=True)\n",
    "# interface.eval_model('test', on_robustified_model=True)"
   ]
  }
 ],
 "metadata": {
  "kernelspec": {
   "display_name": "Python 3",
   "language": "python",
   "name": "python3"
  },
  "language_info": {
   "codemirror_mode": {
    "name": "ipython",
    "version": 3
   },
   "file_extension": ".py",
   "mimetype": "text/x-python",
   "name": "python",
   "nbconvert_exporter": "python",
   "pygments_lexer": "ipython3",
   "version": "3.7.3"
  }
 },
 "nbformat": 4,
 "nbformat_minor": 2
}
